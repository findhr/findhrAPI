{
 "cells": [
  {
   "cell_type": "markdown",
   "metadata": {
    "collapsed": false
   },
   "source": [
    "# Counterfactual Explanation for the Feature Engineering Data-Domain (FEDD)"
   ]
  },
  {
   "cell_type": "code",
   "execution_count": 1,
   "metadata": {
    "collapsed": true,
    "execution": {
     "iopub.execute_input": "2025-04-28T09:11:06.947363Z",
     "iopub.status.busy": "2025-04-28T09:11:06.946964Z",
     "iopub.status.idle": "2025-04-28T09:11:07.561329Z",
     "shell.execute_reply": "2025-04-28T09:11:07.560948Z"
    }
   },
   "outputs": [],
   "source": [
    "# import libraries\n",
    "from collections import namedtuple\n",
    "from lightgbm import LGBMRanker\n",
    "from findhr.preprocess.mapping import AttachMetadata, DetachMetadata, DerivedColumn\n",
    "from findhr.preprocess.example_mappings import RelevantExperienceForRole, ExtractMonthDurationJob, MatchOrdinal, ExtractListOfProperty, MatchFeatureAtLeastInList, MatchFeatureSet, MatchBinary\n",
    "\n",
    "from findhr.xai.counterfactual import dice_ml\n",
    "from sklearn.pipeline import Pipeline\n",
    "import pandas as pd\n",
    "import numpy as np\n",
    "\n",
    "np.random.seed(42)\n",
    "\n",
    "# suppress warnings\n",
    "import warnings\n",
    "\n",
    "warnings.simplefilter(action='ignore', category=pd.errors.SettingWithCopyWarning)\n",
    "warnings.simplefilter(action='ignore', category=UserWarning)\n",
    "warnings.simplefilter(action='ignore', category=RuntimeWarning)\n",
    "warnings.simplefilter(action='ignore', category=FutureWarning)"
   ]
  },
  {
   "cell_type": "markdown",
   "metadata": {
    "collapsed": false
   },
   "source": [
    "### Define Helper Classes and Functions"
   ]
  },
  {
   "cell_type": "code",
   "execution_count": 2,
   "metadata": {
    "collapsed": false,
    "execution": {
     "iopub.execute_input": "2025-04-28T09:11:07.562831Z",
     "iopub.status.busy": "2025-04-28T09:11:07.562711Z",
     "iopub.status.idle": "2025-04-28T09:11:07.776698Z",
     "shell.execute_reply": "2025-04-28T09:11:07.776441Z"
    }
   },
   "outputs": [],
   "source": [
    "%run ./Example_InputDataSources.ipynb"
   ]
  },
  {
   "cell_type": "code",
   "execution_count": 3,
   "metadata": {
    "collapsed": false,
    "execution": {
     "iopub.execute_input": "2025-04-28T09:11:07.777989Z",
     "iopub.status.busy": "2025-04-28T09:11:07.777897Z",
     "iopub.status.idle": "2025-04-28T09:11:07.795649Z",
     "shell.execute_reply": "2025-04-28T09:11:07.795421Z"
    }
   },
   "outputs": [
    {
     "data": {
      "text/html": [
       "<div>\n",
       "<style scoped>\n",
       "    .dataframe tbody tr th:only-of-type {\n",
       "        vertical-align: middle;\n",
       "    }\n",
       "\n",
       "    .dataframe tbody tr th {\n",
       "        vertical-align: top;\n",
       "    }\n",
       "\n",
       "    .dataframe thead th {\n",
       "        text-align: right;\n",
       "    }\n",
       "</style>\n",
       "<table border=\"1\" class=\"dataframe\">\n",
       "  <thead>\n",
       "    <tr style=\"text-align: right;\">\n",
       "      <th></th>\n",
       "      <th>id_c</th>\n",
       "      <th>education_background_c</th>\n",
       "      <th>professional_experience_c</th>\n",
       "      <th>skills_c</th>\n",
       "      <th>gender_c</th>\n",
       "      <th>agg_perceived_foreign_c</th>\n",
       "      <th>id_j</th>\n",
       "      <th>education_reqs_j</th>\n",
       "      <th>experience_reqs_role_j</th>\n",
       "      <th>experience_reqs_duration_j</th>\n",
       "      <th>skills_j</th>\n",
       "      <th>gender_j</th>\n",
       "      <th>agg_perceived_foreign_j</th>\n",
       "      <th>ranking</th>\n",
       "      <th>shortlisted</th>\n",
       "      <th>score</th>\n",
       "    </tr>\n",
       "  </thead>\n",
       "  <tbody>\n",
       "    <tr>\n",
       "      <th>0</th>\n",
       "      <td>5</td>\n",
       "      <td>[{'institution': 'Complutense University Of Ma...</td>\n",
       "      <td>[{'institution': 'Stylo Milano', 'start_date':...</td>\n",
       "      <td>[Communications, Social Integration, Microsoft...</td>\n",
       "      <td>Man</td>\n",
       "      <td>No</td>\n",
       "      <td>5</td>\n",
       "      <td>[Law Bachelor, Degree In Law, Higher Degree In...</td>\n",
       "      <td>[Consultant]</td>\n",
       "      <td>12</td>\n",
       "      <td>[Punctuality, Organization, Accounting, Englis...</td>\n",
       "      <td>Man</td>\n",
       "      <td>No</td>\n",
       "      <td>4</td>\n",
       "      <td>1</td>\n",
       "      <td>0.0</td>\n",
       "    </tr>\n",
       "    <tr>\n",
       "      <th>1</th>\n",
       "      <td>6</td>\n",
       "      <td>[{'institution': 'Coronel Rosales Agricultural...</td>\n",
       "      <td>[{'institution': 'Securitas Direct', 'start_da...</td>\n",
       "      <td>[Refinancing, Economy, Microsoft Excel, Collec...</td>\n",
       "      <td>Man</td>\n",
       "      <td>No</td>\n",
       "      <td>3</td>\n",
       "      <td>[]</td>\n",
       "      <td>[Sales Assistant, Saleswoman, Commercial Advisor]</td>\n",
       "      <td>12</td>\n",
       "      <td>[English, Spanish, Communications, Communicati...</td>\n",
       "      <td>Man</td>\n",
       "      <td>No</td>\n",
       "      <td>8</td>\n",
       "      <td>1</td>\n",
       "      <td>0.6</td>\n",
       "    </tr>\n",
       "    <tr>\n",
       "      <th>2</th>\n",
       "      <td>10</td>\n",
       "      <td>[{'institution': 'Complutense University Of Ma...</td>\n",
       "      <td>[{'institution': 'Carrefour Express', 'start_d...</td>\n",
       "      <td>[Entrepreneurship, Literacy, Web Design, Adobe...</td>\n",
       "      <td>Woman</td>\n",
       "      <td>No</td>\n",
       "      <td>5</td>\n",
       "      <td>[Law Bachelor, Degree In Law, Higher Degree In...</td>\n",
       "      <td>[Consultant]</td>\n",
       "      <td>12</td>\n",
       "      <td>[Punctuality, Organization, Accounting, Englis...</td>\n",
       "      <td>Man</td>\n",
       "      <td>No</td>\n",
       "      <td>4</td>\n",
       "      <td>1</td>\n",
       "      <td>0.0</td>\n",
       "    </tr>\n",
       "    <tr>\n",
       "      <th>3</th>\n",
       "      <td>11</td>\n",
       "      <td>[{'institution': 'Les Ribera De Los Molinos', ...</td>\n",
       "      <td>[{'institution': 'Decimas Sl', 'start_date': '...</td>\n",
       "      <td>[Consulting, Sap Crm, Collections, Automation,...</td>\n",
       "      <td>Woman</td>\n",
       "      <td>No</td>\n",
       "      <td>3</td>\n",
       "      <td>[]</td>\n",
       "      <td>[Sales Assistant, Saleswoman, Commercial Advisor]</td>\n",
       "      <td>12</td>\n",
       "      <td>[English, Spanish, Communications, Communicati...</td>\n",
       "      <td>Man</td>\n",
       "      <td>No</td>\n",
       "      <td>12</td>\n",
       "      <td>0</td>\n",
       "      <td>0.4</td>\n",
       "    </tr>\n",
       "    <tr>\n",
       "      <th>4</th>\n",
       "      <td>15</td>\n",
       "      <td>[{'institution': 'Escuela Politcnica Superior ...</td>\n",
       "      <td>[{'institution': 'Reintegrate', 'start_date': ...</td>\n",
       "      <td>[Microsoft Word, Biofuels, English, Entreprene...</td>\n",
       "      <td>Man</td>\n",
       "      <td>No</td>\n",
       "      <td>3</td>\n",
       "      <td>[]</td>\n",
       "      <td>[Sales Assistant, Saleswoman, Commercial Advisor]</td>\n",
       "      <td>12</td>\n",
       "      <td>[English, Spanish, Communications, Communicati...</td>\n",
       "      <td>Man</td>\n",
       "      <td>No</td>\n",
       "      <td>5</td>\n",
       "      <td>1</td>\n",
       "      <td>0.7</td>\n",
       "    </tr>\n",
       "  </tbody>\n",
       "</table>\n",
       "</div>"
      ],
      "text/plain": [
       "   id_c                             education_background_c  \\\n",
       "0     5  [{'institution': 'Complutense University Of Ma...   \n",
       "1     6  [{'institution': 'Coronel Rosales Agricultural...   \n",
       "2    10  [{'institution': 'Complutense University Of Ma...   \n",
       "3    11  [{'institution': 'Les Ribera De Los Molinos', ...   \n",
       "4    15  [{'institution': 'Escuela Politcnica Superior ...   \n",
       "\n",
       "                           professional_experience_c  \\\n",
       "0  [{'institution': 'Stylo Milano', 'start_date':...   \n",
       "1  [{'institution': 'Securitas Direct', 'start_da...   \n",
       "2  [{'institution': 'Carrefour Express', 'start_d...   \n",
       "3  [{'institution': 'Decimas Sl', 'start_date': '...   \n",
       "4  [{'institution': 'Reintegrate', 'start_date': ...   \n",
       "\n",
       "                                            skills_c gender_c  \\\n",
       "0  [Communications, Social Integration, Microsoft...      Man   \n",
       "1  [Refinancing, Economy, Microsoft Excel, Collec...      Man   \n",
       "2  [Entrepreneurship, Literacy, Web Design, Adobe...    Woman   \n",
       "3  [Consulting, Sap Crm, Collections, Automation,...    Woman   \n",
       "4  [Microsoft Word, Biofuels, English, Entreprene...      Man   \n",
       "\n",
       "  agg_perceived_foreign_c  id_j  \\\n",
       "0                      No     5   \n",
       "1                      No     3   \n",
       "2                      No     5   \n",
       "3                      No     3   \n",
       "4                      No     3   \n",
       "\n",
       "                                    education_reqs_j  \\\n",
       "0  [Law Bachelor, Degree In Law, Higher Degree In...   \n",
       "1                                                 []   \n",
       "2  [Law Bachelor, Degree In Law, Higher Degree In...   \n",
       "3                                                 []   \n",
       "4                                                 []   \n",
       "\n",
       "                              experience_reqs_role_j  \\\n",
       "0                                       [Consultant]   \n",
       "1  [Sales Assistant, Saleswoman, Commercial Advisor]   \n",
       "2                                       [Consultant]   \n",
       "3  [Sales Assistant, Saleswoman, Commercial Advisor]   \n",
       "4  [Sales Assistant, Saleswoman, Commercial Advisor]   \n",
       "\n",
       "   experience_reqs_duration_j  \\\n",
       "0                          12   \n",
       "1                          12   \n",
       "2                          12   \n",
       "3                          12   \n",
       "4                          12   \n",
       "\n",
       "                                            skills_j gender_j  \\\n",
       "0  [Punctuality, Organization, Accounting, Englis...      Man   \n",
       "1  [English, Spanish, Communications, Communicati...      Man   \n",
       "2  [Punctuality, Organization, Accounting, Englis...      Man   \n",
       "3  [English, Spanish, Communications, Communicati...      Man   \n",
       "4  [English, Spanish, Communications, Communicati...      Man   \n",
       "\n",
       "  agg_perceived_foreign_j  ranking  shortlisted  score  \n",
       "0                      No        4            1    0.0  \n",
       "1                      No        8            1    0.6  \n",
       "2                      No        4            1    0.0  \n",
       "3                      No       12            0    0.4  \n",
       "4                      No        5            1    0.7  "
      ]
     },
     "execution_count": 3,
     "metadata": {},
     "output_type": "execute_result"
    }
   ],
   "source": [
    "# Joined DataFrame.\n",
    "df_all.head()"
   ]
  },
  {
   "cell_type": "code",
   "execution_count": 4,
   "metadata": {
    "collapsed": false,
    "execution": {
     "iopub.execute_input": "2025-04-28T09:11:07.813162Z",
     "iopub.status.busy": "2025-04-28T09:11:07.813046Z",
     "iopub.status.idle": "2025-04-28T09:11:07.821947Z",
     "shell.execute_reply": "2025-04-28T09:11:07.821718Z"
    }
   },
   "outputs": [
    {
     "data": {
      "text/plain": [
       "{'id_c': \n",
       " \tSCHEMA = {'type': 'number'}\n",
       " \tATTR_TYPE = object\n",
       " \tATTR_USAGE = default\n",
       " \tKNOWLEDGE_BASE = None,\n",
       " 'education_background_c': \n",
       " \tSCHEMA = {'type': 'array', 'items': {'type': 'object', 'properties': {'institution': {'type': 'string'}, 'end_date': {'type': 'string'}, 'degree': {'type': 'string'}, 'duration': {'type': 'string'}}}}\n",
       " \tATTR_TYPE = object\n",
       " \tATTR_USAGE = default\n",
       " \tKNOWLEDGE_BASE = None,\n",
       " 'professional_experience_c': \n",
       " \tSCHEMA = {'type': 'array', 'items': {'type': 'object', 'properties': {'institution': {'type': 'string'}, 'end_date': {'type': 'string'}, 'role': {'type': 'string'}, 'duration': {'type': 'string'}}}}\n",
       " \tATTR_TYPE = object\n",
       " \tATTR_USAGE = default\n",
       " \tKNOWLEDGE_BASE = None,\n",
       " 'skills_c': \n",
       " \tSCHEMA = {'type': 'array', 'items': {'type': 'string'}}\n",
       " \tATTR_TYPE = object\n",
       " \tATTR_USAGE = default\n",
       " \tKNOWLEDGE_BASE = None,\n",
       " 'gender_c': \n",
       " \tSCHEMA = {'enum': ['Man', 'Woman', 'Any']}\n",
       " \tATTR_TYPE = category\n",
       " \tATTR_USAGE = sensitive\n",
       " \tKNOWLEDGE_BASE = None,\n",
       " 'agg_perceived_foreign_c': \n",
       " \tSCHEMA = {'enum': ['No', 'Yes', 'Any']}\n",
       " \tATTR_TYPE = category\n",
       " \tATTR_USAGE = sensitive\n",
       " \tKNOWLEDGE_BASE = None,\n",
       " 'id_j': \n",
       " \tSCHEMA = {'type': 'number'}\n",
       " \tATTR_TYPE = object\n",
       " \tATTR_USAGE = default\n",
       " \tKNOWLEDGE_BASE = None,\n",
       " 'education_reqs_j': \n",
       " \tSCHEMA = {'type': 'array', 'items': {'type': 'string'}}\n",
       " \tATTR_TYPE = object\n",
       " \tATTR_USAGE = default\n",
       " \tKNOWLEDGE_BASE = None,\n",
       " 'experience_reqs_role_j': \n",
       " \tSCHEMA = {'type': 'array', 'items': {'type': 'string'}}\n",
       " \tATTR_TYPE = object\n",
       " \tATTR_USAGE = default\n",
       " \tKNOWLEDGE_BASE = None,\n",
       " 'experience_reqs_duration_j': \n",
       " \tSCHEMA = {'type': 'number'}\n",
       " \tATTR_TYPE = object\n",
       " \tATTR_USAGE = default\n",
       " \tKNOWLEDGE_BASE = None,\n",
       " 'skills_j': \n",
       " \tSCHEMA = {'type': 'array', 'items': {'type': 'string'}}\n",
       " \tATTR_TYPE = object\n",
       " \tATTR_USAGE = default\n",
       " \tKNOWLEDGE_BASE = None,\n",
       " 'gender_j': \n",
       " \tSCHEMA = {'enum': ['Man', 'Woman', 'Any']}\n",
       " \tATTR_TYPE = category\n",
       " \tATTR_USAGE = sensitive\n",
       " \tKNOWLEDGE_BASE = None,\n",
       " 'agg_perceived_foreign_j': \n",
       " \tSCHEMA = {'enum': ['No', 'Yes', 'Any']}\n",
       " \tATTR_TYPE = category\n",
       " \tATTR_USAGE = sensitive\n",
       " \tKNOWLEDGE_BASE = None,\n",
       " 'score': \n",
       " \tSCHEMA = {'type': 'number'}\n",
       " \tATTR_TYPE = numeric\n",
       " \tATTR_USAGE = target\n",
       " \tKNOWLEDGE_BASE = None,\n",
       " 'ranking': \n",
       " \tSCHEMA = {'type': 'integer'}\n",
       " \tATTR_TYPE = ordinal\n",
       " \tATTR_USAGE = target\n",
       " \tKNOWLEDGE_BASE = None,\n",
       " 'shortlisted': \n",
       " \tSCHEMA = {'type': 'integer'}\n",
       " \tATTR_TYPE = category\n",
       " \tATTR_USAGE = target\n",
       " \tKNOWLEDGE_BASE = None}"
      ]
     },
     "execution_count": 4,
     "metadata": {},
     "output_type": "execute_result"
    }
   ],
   "source": [
    "# Joined metadata.\n",
    "md_all"
   ]
  },
  {
   "cell_type": "code",
   "execution_count": 5,
   "metadata": {
    "collapsed": false,
    "execution": {
     "iopub.execute_input": "2025-04-28T09:11:07.823006Z",
     "iopub.status.busy": "2025-04-28T09:11:07.822939Z",
     "iopub.status.idle": "2025-04-28T09:11:07.830371Z",
     "shell.execute_reply": "2025-04-28T09:11:07.830155Z"
    }
   },
   "outputs": [],
   "source": [
    "# Define helper function\n",
    "def rank2relevance(df, top_k, col_rank):\n",
    "    return top_k + 1 - df[col_rank].values.ravel()"
   ]
  },
  {
   "cell_type": "markdown",
   "metadata": {
    "collapsed": false
   },
   "source": [
    "### Define the Preprocessing pipeline"
   ]
  },
  {
   "cell_type": "code",
   "execution_count": 6,
   "metadata": {
    "collapsed": false,
    "execution": {
     "iopub.execute_input": "2025-04-28T09:11:07.831597Z",
     "iopub.status.busy": "2025-04-28T09:11:07.831519Z",
     "iopub.status.idle": "2025-04-28T09:11:07.840214Z",
     "shell.execute_reply": "2025-04-28T09:11:07.839952Z"
    }
   },
   "outputs": [],
   "source": [
    "# Define subsets of columns\n",
    "cols_id = ['id_c', 'id_j']\n",
    "all_cols = ['id_c', 'education_background_c', 'professional_experience_c',\n",
    "   'skills_c', 'gender_c', 'agg_perceived_foreign_c', 'id_j',\n",
    "   'education_reqs_j', 'experience_reqs_role_j',\n",
    "   'experience_reqs_duration_j', 'skills_j', 'gender_j',\n",
    "   'agg_perceived_foreign_j', 'ranking', 'shortlisted', 'score']\n",
    "# Define the subset of columns of the HUDD dataset describing the candidate,\n",
    "# which are used in the preprocessing+prediction pipeline\n",
    "cols_c = ['education_background_c', 'professional_experience_c',\n",
    "          'skills_c', 'gender_c', 'agg_perceived_foreign_c']\n",
    "cols_j = ['education_reqs_j', 'experience_reqs_role_j',\n",
    "   'experience_reqs_duration_j', 'skills_j', 'gender_j', 'agg_perceived_foreign_j']\n",
    "cols_pred_preprocess = cols_c + cols_j\n",
    "cols_not_for_pred = ['id_c', 'id_j', 'ranking', 'shortlisted']\n",
    "cols_sensitive = ['gender_c', 'agg_perceived_foreign_c']\n",
    "col_target = ['score']\n",
    "\n",
    "df_CDS_JDS = df_all[cols_id + [col for col in df_all if col not in cols_id+col_target] + col_target ]\n",
    "\n",
    "cols_dict_HUDD = {'cols_pred_preprocess': cols_pred_preprocess,\n",
    "                    'cols_sensitive': cols_sensitive,\n",
    "                    'cols_id': cols_id,\n",
    "                    'cols_not_for_pred': cols_not_for_pred,\n",
    "                    'col_target': col_target}\n",
    "\n"
   ]
  },
  {
   "cell_type": "code",
   "execution_count": 7,
   "metadata": {
    "collapsed": false,
    "execution": {
     "iopub.execute_input": "2025-04-28T09:11:07.841306Z",
     "iopub.status.busy": "2025-04-28T09:11:07.841234Z",
     "iopub.status.idle": "2025-04-28T09:11:07.850508Z",
     "shell.execute_reply": "2025-04-28T09:11:07.850272Z"
    }
   },
   "outputs": [],
   "source": [
    "def build_fitness_matrix(df_CDS_JDS, cols_dict):\n",
    "    # Calculated features.\n",
    "    maps_derived_1 = {\n",
    "        (('professional_experience_c', 'experience_reqs_role_j',), ('relevant_exp_role_c',)): RelevantExperienceForRole(),\n",
    "    }\n",
    "\n",
    "    maps_derived_2 = {\n",
    "            (('relevant_exp_role_c',), ('role_duration_months_c',)): ExtractMonthDurationJob(duration_key='duration_months'),\n",
    "            (('education_background_c',), ('degree_list_c',)): ExtractListOfProperty(property_key='degree')\n",
    "    }\n",
    "\n",
    "    # Fitness features about the matching between candidate's features and job's requirements.\n",
    "    maps_matching = {\n",
    "        (('experience_reqs_duration_j', 'role_duration_months_c'), ('fitness_experience',)): MatchOrdinal(),\n",
    "        (('education_reqs_j', 'education_background_c'), ('fitness_education',)): MatchFeatureAtLeastInList(),\n",
    "        (('skills_j', 'skills_c'), ('fitness_skills',)): MatchFeatureSet(),\n",
    "        (('gender_j', 'gender_c'), ('fitness_gender',)): MatchBinary(),\n",
    "        (('agg_perceived_foreign_j', 'agg_perceived_foreign_c'), ('fitness_foreign',)): MatchBinary()\n",
    "    }\n",
    "\n",
    "\n",
    "    # Calculation as fit-transform preprocessing\n",
    "    pipeline_fitness = Pipeline(steps=[\n",
    "        (\"init\", AttachMetadata(md_all)),\n",
    "        ('mapping_1', DerivedColumn(maps_derived_1)),\n",
    "        ('mapping_2', DerivedColumn(maps_derived_2)),\n",
    "        (\"matching\", DerivedColumn(maps_matching)),\n",
    "        # (\"fitness\", GroundTruthLinearWeightedScorer(gt_weights_fair)),\n",
    "        (\"end\", DetachMetadata())\n",
    "    ])\n",
    "\n",
    "    pipeline_fitness.fit(X=df_CDS_JDS)\n",
    "    fitness_matrix = pipeline_fitness.transform(X=df_CDS_JDS)\n",
    "    df_fitness_mat = fitness_matrix.copy(deep=True)\n",
    "    columns_keep = cols_dict['cols_id'] + \\\n",
    "                   [col for col in fitness_matrix if\n",
    "                    col.startswith('fitness_')] + cols_dict['cols_sensitive'] + cols_dict['col_target']\n",
    "\n",
    "    df_fitness_mat = df_fitness_mat[columns_keep]\n",
    "\n",
    "    # From scores, we can learn regressors; or we can produce ranks, and learn ranking models\n",
    "    df_fitness_mat['rank'] = df_fitness_mat.groupby(\"id_j\")['score'].rank('dense', ascending=False)\n",
    "    df_fitness_mat['rank'] = df_fitness_mat['rank'].apply(lambda x: x if x <= TOP_K else TOP_K + 1)\n",
    "\n",
    "    return pipeline_fitness, df_fitness_mat"
   ]
  },
  {
   "cell_type": "markdown",
   "metadata": {
    "collapsed": false
   },
   "source": [
    "### Define the ranking model\n",
    "To better understand the LambdaRank framework, we point to the relevant literature (e.g. [Burges, 2010, From RankNet to LambdaRank to LambdaMART: An Overview](https://www.microsoft.com/en-us/research/wp-content/uploads/2016/02/MSR-TR-2010-82.pdf))"
   ]
  },
  {
   "cell_type": "code",
   "execution_count": 8,
   "metadata": {
    "collapsed": false,
    "execution": {
     "iopub.execute_input": "2025-04-28T09:11:07.851655Z",
     "iopub.status.busy": "2025-04-28T09:11:07.851583Z",
     "iopub.status.idle": "2025-04-28T09:11:07.861875Z",
     "shell.execute_reply": "2025-04-28T09:11:07.861622Z"
    }
   },
   "outputs": [],
   "source": [
    "def data_split_FEDD(df_fitness_mat):\n",
    "    all_jobs = df_fitness_mat['id_j'].unique()\n",
    "    # For this example, we assume that train, val and test sets are the same\n",
    "    train_jobs = test_jobs = val_jobs = all_jobs\n",
    "    # train_jobs, test_jobs = train_test_split(all_jobs, test_size=0.5, random_state=42, # shuffle=False)\n",
    "    # train_jobs, val_jobs = train_test_split(train_jobs, test_size=0.25, random_state=42, shuffle=False)\n",
    "\n",
    "    # Build train, test and validation sets, ensuring they are sorted by id_j, id_c\n",
    "    df_train = df_fitness_mat[df_fitness_mat['id_j'].isin(train_jobs)].sort_values([\"id_j\", \"id_c\"])\n",
    "    df_val = df_fitness_mat[df_fitness_mat['id_j'].isin(val_jobs)].sort_values([\"id_j\", \"id_c\"])\n",
    "    df_test = df_fitness_mat[df_fitness_mat['id_j'].isin(test_jobs)].sort_values([\"id_j\", \"id_c\"])\n",
    "\n",
    "    return df_train, df_val, df_test\n",
    "\n",
    "\n",
    "def init(df_fitness_mat):\n",
    "    df_train, df_val, df_test = data_split_FEDD(df_fitness_mat)\n",
    "    # Define subsets of columns\n",
    "    cols_id = ['id_j', 'id_c']  # ids\n",
    "    cols_pred = sorted([  # predictive\n",
    "        'fitness_experience',\n",
    "        'fitness_education',\n",
    "        'fitness_skills',\n",
    "        'fitness_gender',\n",
    "        'fitness_foreign'])\n",
    "    cols_sensitive = ['gender_c']  # sensitive attribute(s)\n",
    "    col_target = 'score'  # target value for ranking\n",
    "    col_rank = 'rank'  # rank value for ranking\n",
    "\n",
    "    cols_dict_FEDD = {'cols_id': cols_id,\n",
    "                      'cols_pred': cols_pred,\n",
    "                      'cols_sensitive': cols_sensitive,\n",
    "                      'col_target': col_target,\n",
    "                      'col_rank': col_rank}\n",
    "    # Define the ranking model\n",
    "    ranker = LGBMRanker(\n",
    "        objective=\"lambdarank\",\n",
    "        class_weight=\"balanced\",\n",
    "        boosting_type=\"gbdt\",\n",
    "        importance_type=\"gain\",\n",
    "        learning_rate=0.01,\n",
    "        n_estimators=10,\n",
    "        force_row_wise=True,\n",
    "        n_jobs=-1,  # max parallelism\n",
    "        verbose=-1  # no verbosity\n",
    "    )\n",
    "    return ranker, df_train, df_val, df_test, cols_dict_FEDD\n",
    "\n",
    "\n",
    "def train(ranker, df_train, df_val, cols_dict):\n",
    "    df_train_counts = df_train.groupby(\"id_j\")[\"id_j\"].count().to_numpy()\n",
    "    df_val_counts = df_val.groupby(\"id_j\")[\"id_j\"].count().to_numpy()\n",
    "\n",
    "    # Fitting ranker:\n",
    "    ranker.fit(\n",
    "        X=df_train[cols_dict['cols_pred']],\n",
    "        # LightGBM relevance is the higher the better\n",
    "        y=rank2relevance(df_train, TOP_K, cols_dict['col_rank']),\n",
    "        group = df_train_counts,\n",
    "        eval_at = [TOP_K],\n",
    "        # LightGBM relevance is the higher the better\n",
    "        eval_set =[(df_val[cols_dict['cols_pred']], rank2relevance(df_val, TOP_K, cols_dict['col_rank']))],\n",
    "        eval_group =[df_val_counts]\n",
    "    )\n",
    "\n",
    "    return ranker\n",
    "\n",
    "\n",
    "def evaluate(ranker, df_test, cols_dict):\n",
    "    df_test_counts = df_test.groupby(\"id_j\")[\"id_j\"].count().to_numpy()\n",
    "    # Predicting ranker:\n",
    "    df_test['lambda'] = ranker.predict(df_test[cols_dict['cols_pred']])\n",
    "    df_test['pred_rank'] = df_test.groupby(\"id_j\")['lambda'].rank('dense', ascending=False)\n",
    "    df_test['pred_rank'] = df_test['pred_rank'].apply(lambda x: x if x <= TOP_K else TOP_K + 1)\n",
    "\n",
    "    return df_test\n",
    "\n",
    "\n",
    "def ranking_pipeline(df_fitness_mat):\n",
    "    ranker, df_train, df_val, df_test, cols_dict_FEDD = init(df_fitness_mat)\n",
    "    ranker = train(ranker, df_train, df_val, cols_dict_FEDD)\n",
    "    df_test = evaluate(ranker, df_test, cols_dict_FEDD)\n",
    "    return ranker, df_test, cols_dict_FEDD"
   ]
  },
  {
   "cell_type": "markdown",
   "metadata": {
    "collapsed": false
   },
   "source": [
    "### Prepare data and functions for the counterfactual explanation"
   ]
  },
  {
   "cell_type": "code",
   "execution_count": 9,
   "metadata": {
    "collapsed": false,
    "execution": {
     "iopub.execute_input": "2025-04-28T09:11:07.862978Z",
     "iopub.status.busy": "2025-04-28T09:11:07.862907Z",
     "iopub.status.idle": "2025-04-28T09:11:07.874424Z",
     "shell.execute_reply": "2025-04-28T09:11:07.874178Z"
    }
   },
   "outputs": [],
   "source": [
    "def define_cols_dict():\n",
    "    outcome_name_col = 'lambda'  # 'pred_rank'\n",
    "    continuous_features = sorted(['fitness_skills', 'fitness_gender','fitness_foreign'])\n",
    "    categorical_features = sorted(['fitness_education', 'fitness_experience'])\n",
    "    cols_pred = sorted(continuous_features + categorical_features)\n",
    "    return {'outcome_name_col': outcome_name_col, 'continuous_features': continuous_features,\n",
    "            'categorical_features': categorical_features, 'cols_pred': cols_pred}\n",
    "\n",
    "\n",
    "def extract_explicand_data_cf(id_j, candidate_position, df_test, ranker, cols_dict_FEDD, df_CDS_JDS):\n",
    "    # Extract the data of the candidate to be explained\n",
    "\n",
    "    # df_id_j contains the data for the job id_j\n",
    "    df_id_j_FEDD = df_test[df_test['id_j'] == id_j]\n",
    "    # Add the lambda and the predicted rank for all the candidates\n",
    "    df_id_j_FEDD['lambda'] = ranker.predict(df_id_j_FEDD[cols_dict_FEDD['cols_pred']])\n",
    "    df_id_j_FEDD['pred_rank'] = df_id_j_FEDD.groupby(\"id_j\")['lambda'].rank('dense', ascending=False)\n",
    "\n",
    "    exp_c_pred_rank = candidate_position\n",
    "\n",
    "    # Extract the explicand candidate id_c\n",
    "    exp_c_id_c = df_id_j_FEDD.loc[df_id_j_FEDD['pred_rank'] == exp_c_pred_rank, 'id_c'].iloc[0]\n",
    "\n",
    "    # Isolate the candidates' profiles applying for the job id_j\n",
    "    df_id_j_HUDD = df_CDS_JDS[df_CDS_JDS['id_j'] == id_j]\n",
    "\n",
    "    # Isolate the explicand candidate profile\n",
    "    exp_c_profile = df_CDS_JDS[df_CDS_JDS['id_c'] == exp_c_id_c]\n",
    "\n",
    "    exp_c = {'id_c': exp_c_id_c, 'profile': exp_c_profile}\n",
    "\n",
    "    cols_dict = define_cols_dict()\n",
    "\n",
    "    return df_id_j_FEDD, df_id_j_HUDD, exp_c, cols_dict\n",
    "\n",
    "\n",
    "def prepare_data_cf(df_id_j_FEDD, cols_dict):\n",
    "\n",
    "    # Convert data types\n",
    "    df_id_j_FEDD_pre = df_id_j_FEDD[cols_dict['categorical_features']].astype('int').copy(deep=True)\n",
    "    df_id_j_FEDD_pre[cols_dict['continuous_features']] = df_id_j_FEDD[cols_dict['continuous_features']].astype('float').copy(deep=True)\n",
    "    df_id_j_FEDD_pre[cols_dict['outcome_name_col']] = df_id_j_FEDD[cols_dict['outcome_name_col']].copy(deep=True)\n",
    "    feature_dtypes = {col: df_id_j_FEDD_pre[col].dtype for col in df_id_j_FEDD_pre[cols_dict['cols_pred']].columns}\n",
    "\n",
    "    return df_id_j_FEDD_pre, feature_dtypes\n",
    "\n",
    "\n",
    "def define_target(args, df_id_j_FEDD, target_rank=TOP_K):\n",
    "    # 'in_top_k' or 'out_top_k' depending on the candidate position\n",
    "    explicand_class = 'in_top_k' if args.candidate_position <= target_rank else 'out_top_k'\n",
    "\n",
    "    # target rank for counterfactual explanation\n",
    "    if args.target_rank:\n",
    "        tgt_cf_rank = args.target_rank\n",
    "        tgt_cf_score = df_id_j_FEDD[df_id_j_FEDD['pred_rank'] == tgt_cf_rank]['score'].iloc[0]\n",
    "        tgt_cf_candidate = df_id_j_FEDD[df_id_j_FEDD['pred_rank'] == tgt_cf_rank]\n",
    "\n",
    "    elif args.target_score:\n",
    "        tgt_cf_rank = None\n",
    "        tgt_cf_score = args.target_score\n",
    "        tgt_cf_candidate = None\n",
    "    else:\n",
    "        raise ValueError('Either target rank or target score must be provided')\n",
    "\n",
    "    return explicand_class, tgt_cf_rank, tgt_cf_score, tgt_cf_candidate\n",
    "\n",
    "\n",
    "def define_explainer_FEDD(ranker, df_id_j_FEDD_pre, cols_dict_cf, feature_dtypes, explanation_method, target_rank=TOP_K):\n",
    "    data_dice = dice_ml.Data(dataframe=df_id_j_FEDD_pre[cols_dict_cf['cols_pred'] + [cols_dict_cf['outcome_name_col']]],\n",
    "                             continuous_features=cols_dict_cf['continuous_features'],\n",
    "                             categorical_features=cols_dict_cf['categorical_features'],\n",
    "                             outcome_name=cols_dict_cf['outcome_name_col'])\n",
    "\n",
    "    kwargs = {'top_k': target_rank, 'features_dtype': feature_dtypes}\n",
    "\n",
    "    model_dice = dice_ml.Model(model=ranker,\n",
    "                               backend={'explainer': 'dice_xgboost.DiceGenetic',\n",
    "                                        'model': \"lgbmranker_model.LGBMRankerModel\"},\n",
    "                               model_type=\"regressor\",\n",
    "                               # model_type=\"classifier\",\n",
    "                               kw_args=kwargs)\n",
    "\n",
    "    explainer = dice_ml.Dice(data_dice, model_dice, method=explanation_method)\n",
    "\n",
    "    return explainer, data_dice, model_dice\n",
    "\n",
    "\n",
    "def get_explanations_FEDD(df_id_j_FEDD, exp_c, cols_dict_cf, explainer, target_rank=TOP_K):\n",
    "\n",
    "    # Get the predicted lambda for the candidate in target_rank position\n",
    "    c_th_lambda = df_id_j_FEDD[df_id_j_FEDD['pred_rank'] == target_rank].iloc[0]['lambda']\n",
    "    print(f'Predicted lambda for candidate in rank {target_rank}: {c_th_lambda}')\n",
    "    # Generate the counterfactual explanations\n",
    "    explanations = explainer.generate_counterfactuals(exp_c['profile'][cols_dict_cf['cols_pred']],\n",
    "                                                      total_CFs=4,\n",
    "                                                      desired_range=[c_th_lambda, 100], # Look for alternative candidates with a higher lambda than c_th_lambda\n",
    "                                                      # desired_class=\"opposite\",\n",
    "                                                      verbose=True)\n",
    "    return explanations"
   ]
  },
  {
   "cell_type": "markdown",
   "metadata": {
    "collapsed": false
   },
   "source": [
    "### Compute counterfactual explanation for an instance"
   ]
  },
  {
   "cell_type": "code",
   "execution_count": 10,
   "metadata": {
    "collapsed": false,
    "execution": {
     "iopub.execute_input": "2025-04-28T09:11:07.875496Z",
     "iopub.status.busy": "2025-04-28T09:11:07.875425Z",
     "iopub.status.idle": "2025-04-28T09:11:07.882799Z",
     "shell.execute_reply": "2025-04-28T09:11:07.882559Z"
    }
   },
   "outputs": [],
   "source": [
    "# The job id for which the counterfactual explanation is to be generated'\n",
    "# Valid values 1-5\n",
    "id_j = 1\n",
    "\n",
    "# The position of the candidate to explain the prediction\n",
    "candidate_position = 12\n",
    "\n",
    "# Alternative ways to define the target of the explanation (less than or equal to TOP_K):\n",
    "target_rank = TOP_K\n",
    "\n",
    "# Select the algorithm for generating the counterfactual explanation:\n",
    "# valid values are 'genetic' or 'random'\n",
    "explanation_method = 'genetic'\n"
   ]
  },
  {
   "cell_type": "code",
   "execution_count": 11,
   "metadata": {
    "collapsed": false,
    "execution": {
     "iopub.execute_input": "2025-04-28T09:11:07.883913Z",
     "iopub.status.busy": "2025-04-28T09:11:07.883849Z",
     "iopub.status.idle": "2025-04-28T09:11:07.891182Z",
     "shell.execute_reply": "2025-04-28T09:11:07.890973Z"
    }
   },
   "outputs": [],
   "source": [
    "# Helper structure to save the target rank and candidate position for the explanations\n",
    "args = namedtuple('Args', ['target_rank', 'target_candidate'])\n",
    "\n",
    "args.target_rank = target_rank\n",
    "args.candidate_position = candidate_position"
   ]
  },
  {
   "cell_type": "code",
   "execution_count": 12,
   "metadata": {
    "collapsed": false,
    "execution": {
     "iopub.execute_input": "2025-04-28T09:11:07.892266Z",
     "iopub.status.busy": "2025-04-28T09:11:07.892202Z",
     "iopub.status.idle": "2025-04-28T09:11:09.786894Z",
     "shell.execute_reply": "2025-04-28T09:11:09.786633Z"
    }
   },
   "outputs": [
    {
     "name": "stdout",
     "output_type": "stream",
     "text": [
      "Predicted lambda for candidate in rank 10: -0.0475644202820686\n",
      "Initializing initial parameters to the genetic algorithm...\n"
     ]
    },
    {
     "name": "stdout",
     "output_type": "stream",
     "text": [
      "Initialization complete! Generating counterfactuals...\n"
     ]
    },
    {
     "name": "stdout",
     "output_type": "stream",
     "text": [
      "Only 1 (required 4)  Diverse Counterfactuals found for the given configuation, perhaps  change the query instance or the features to vary...; total time taken: 00 min 01 sec\n"
     ]
    }
   ],
   "source": [
    "# Define the pipeline:\n",
    "# - first the fitness pipeline\n",
    "# - then the ranking pipeline\n",
    "pipeline_fitness, df_fitness_mat = build_fitness_matrix(df_CDS_JDS, cols_dict_HUDD)\n",
    "ranker, df_test, cols_dict_FEDD = ranking_pipeline(df_fitness_mat)\n",
    "\n",
    "# Extract the data of the candidate to be explained\n",
    "df_id_j_FEDD, df_id_j_HUDD, exp_c, cols_dict_cf = extract_explicand_data_cf(id_j, candidate_position, df_test, ranker, cols_dict_FEDD, df_CDS_JDS)\n",
    "\n",
    "# Prepare the data for the explanations. Define the column data types\n",
    "df_id_j_FEDD_pre, feature_dtypes = prepare_data_cf(df_id_j_FEDD, cols_dict_cf)\n",
    "\n",
    "# Extract the target for the counterfactual explanation (i.e., the data of the candidate in the target position)\n",
    "explicand_class, tgt_cf_rank, tgt_cf_score, tgt_cf_candidate = define_target(args, df_id_j_FEDD, target_rank=target_rank)\n",
    "\n",
    "# Define the counterfactual explainer for the ranker\n",
    "explainer, data_dice, model_dice = define_explainer_FEDD(ranker, df_id_j_FEDD_pre, cols_dict_cf, feature_dtypes, explanation_method, target_rank=target_rank)\n",
    "\n",
    "# Generate the counterfactual explanations\n",
    "explanations_FEDD = get_explanations_FEDD(df_id_j_FEDD, exp_c, cols_dict_cf, explainer, target_rank=target_rank)\n"
   ]
  },
  {
   "cell_type": "markdown",
   "metadata": {
    "collapsed": false
   },
   "source": [
    "### Compare original instance with the obtained counterfactuals"
   ]
  },
  {
   "cell_type": "code",
   "execution_count": 13,
   "metadata": {
    "collapsed": false,
    "execution": {
     "iopub.execute_input": "2025-04-28T09:11:09.788183Z",
     "iopub.status.busy": "2025-04-28T09:11:09.788063Z",
     "iopub.status.idle": "2025-04-28T09:11:09.801815Z",
     "shell.execute_reply": "2025-04-28T09:11:09.801584Z"
    }
   },
   "outputs": [
    {
     "name": "stdout",
     "output_type": "stream",
     "text": [
      "Query instance (original outcome : -0.11087183654308319)\n"
     ]
    },
    {
     "data": {
      "text/html": [
       "<div>\n",
       "<style scoped>\n",
       "    .dataframe tbody tr th:only-of-type {\n",
       "        vertical-align: middle;\n",
       "    }\n",
       "\n",
       "    .dataframe tbody tr th {\n",
       "        vertical-align: top;\n",
       "    }\n",
       "\n",
       "    .dataframe thead th {\n",
       "        text-align: right;\n",
       "    }\n",
       "</style>\n",
       "<table border=\"1\" class=\"dataframe\">\n",
       "  <thead>\n",
       "    <tr style=\"text-align: right;\">\n",
       "      <th></th>\n",
       "      <th>fitness_education</th>\n",
       "      <th>fitness_experience</th>\n",
       "      <th>fitness_foreign</th>\n",
       "      <th>fitness_gender</th>\n",
       "      <th>fitness_skills</th>\n",
       "      <th>lambda</th>\n",
       "    </tr>\n",
       "  </thead>\n",
       "  <tbody>\n",
       "    <tr>\n",
       "      <th>0</th>\n",
       "      <td>0</td>\n",
       "      <td>1</td>\n",
       "      <td>1</td>\n",
       "      <td>0</td>\n",
       "      <td>0.2</td>\n",
       "      <td>-0.110872</td>\n",
       "    </tr>\n",
       "  </tbody>\n",
       "</table>\n",
       "</div>"
      ],
      "text/plain": [
       "   fitness_education  fitness_experience  fitness_foreign  fitness_gender  \\\n",
       "0                  0                   1                1               0   \n",
       "\n",
       "   fitness_skills    lambda  \n",
       "0             0.2 -0.110872  "
      ]
     },
     "metadata": {},
     "output_type": "display_data"
    },
    {
     "name": "stdout",
     "output_type": "stream",
     "text": [
      "\n",
      "Diverse Counterfactual set (new outcome: [np.float64(-0.0475644202820686), 100])\n"
     ]
    },
    {
     "data": {
      "text/html": [
       "<div>\n",
       "<style scoped>\n",
       "    .dataframe tbody tr th:only-of-type {\n",
       "        vertical-align: middle;\n",
       "    }\n",
       "\n",
       "    .dataframe tbody tr th {\n",
       "        vertical-align: top;\n",
       "    }\n",
       "\n",
       "    .dataframe thead th {\n",
       "        text-align: right;\n",
       "    }\n",
       "</style>\n",
       "<table border=\"1\" class=\"dataframe\">\n",
       "  <thead>\n",
       "    <tr style=\"text-align: right;\">\n",
       "      <th></th>\n",
       "      <th>fitness_education</th>\n",
       "      <th>fitness_experience</th>\n",
       "      <th>fitness_foreign</th>\n",
       "      <th>fitness_gender</th>\n",
       "      <th>fitness_skills</th>\n",
       "      <th>lambda</th>\n",
       "    </tr>\n",
       "  </thead>\n",
       "  <tbody>\n",
       "    <tr>\n",
       "      <th>0</th>\n",
       "      <td>-</td>\n",
       "      <td>-</td>\n",
       "      <td>-</td>\n",
       "      <td>-</td>\n",
       "      <td>1.0</td>\n",
       "      <td>0.13224426029289033</td>\n",
       "    </tr>\n",
       "  </tbody>\n",
       "</table>\n",
       "</div>"
      ],
      "text/plain": [
       "  fitness_education fitness_experience fitness_foreign fitness_gender  \\\n",
       "0                 -                  -               -              -   \n",
       "\n",
       "  fitness_skills               lambda  \n",
       "0            1.0  0.13224426029289033  "
      ]
     },
     "metadata": {},
     "output_type": "display_data"
    },
    {
     "name": "stdout",
     "output_type": "stream",
     "text": [
      "None\n"
     ]
    }
   ],
   "source": [
    "# print(explanations_FEDD.cf_examples_list.visualize_as_dataframe(show_only_changes=True))\n",
    "print(explanations_FEDD.visualize_as_dataframe(show_only_changes=True))\n"
   ]
  },
  {
   "cell_type": "markdown",
   "metadata": {
    "collapsed": false
   },
   "source": [
    "The query instance has a original predicted outcome of about -0.11. The obtained counterfactual have a greater lambda of 0.13.\n",
    "The counterfactual explanations shows that the candidate should improve the skills (from fitness_skill=0.2 to 1.0), to reach the selected top 10 candidates."
   ]
  }
 ],
 "metadata": {
  "kernelspec": {
   "display_name": "Python 3",
   "language": "python",
   "name": "python3"
  },
  "language_info": {
   "codemirror_mode": {
    "name": "ipython",
    "version": 3
   },
   "file_extension": ".py",
   "mimetype": "text/x-python",
   "name": "python",
   "nbconvert_exporter": "python",
   "pygments_lexer": "ipython3",
   "version": "3.11.12"
  }
 },
 "nbformat": 4,
 "nbformat_minor": 0
}
