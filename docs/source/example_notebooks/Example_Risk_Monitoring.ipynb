{
 "cells": [
  {
   "cell_type": "markdown",
   "id": "174f115c",
   "metadata": {
    "collapsed": false,
    "jupyter": {
     "outputs_hidden": false
    }
   },
   "source": [
    "# Fairness Monitoring\n",
    "This notebook explains how to use the findhr API to monitor the fairness of a candidate pool."
   ]
  },
  {
   "cell_type": "code",
   "execution_count": 1,
   "id": "13ddc951",
   "metadata": {},
   "outputs": [],
   "source": [
    "import sys\n",
    "import os\n",
    "project_root = os.path.abspath(os.path.join(os.getcwd(), \"../../../src\"))\n",
    "sys.path.append(project_root)"
   ]
  },
  {
   "cell_type": "code",
   "execution_count": 2,
   "id": "7236cf58",
   "metadata": {},
   "outputs": [
    {
     "name": "stdout",
     "output_type": "stream",
     "text": [
      "2025-04-24 18:02:19,257 Install package gmpy2 for better performance.\n"
     ]
    }
   ],
   "source": [
    "from findhr.monitoring import *"
   ]
  },
  {
   "cell_type": "markdown",
   "id": "996dd00a-703c-4479-b7f0-299ce77c9995",
   "metadata": {},
   "source": [
    "## Protocol Stage 1: Candidate application + redirection to optional attribute donation\n",
    "\n",
    "This step will be implemented by the service provider. See the documentation for more details."
   ]
  },
  {
   "cell_type": "markdown",
   "id": "c13799b7-7754-4f52-9ee1-4746be9c81a8",
   "metadata": {},
   "source": [
    "## Protocol Stage 2: Optional attribute donation"
   ]
  },
  {
   "cell_type": "markdown",
   "id": "dc4db9fe",
   "metadata": {},
   "source": [
    "Choose either method A (Third-party-mediated attribute distribution in backend) or method B (Front-end-supported attribute distribution) to deposit encrypted data in the two parties. See the documentation for more details."
   ]
  },
  {
   "cell_type": "markdown",
   "id": "cf5eb8ba",
   "metadata": {},
   "source": [
    "### Method A: Third-party-mediated attribute distribution"
   ]
  },
  {
   "cell_type": "code",
   "execution_count": 3,
   "id": "328ddbd3-e067-4168-b049-88f4014aec69",
   "metadata": {},
   "outputs": [],
   "source": [
    "# The third party can create their own data handling class inheriting from MultipartyDataCollection\n",
    "# The class needs to override two functions for handling the storage of secret data locally, as well as sending it to the server\n",
    "\n",
    "class SecretDataHandler(MultipartyDataCollection):\n",
    "\n",
    "    def send_to_model_owner(self, provider_id, user_id, attribute_name, secret_protected_attribute):\n",
    "        pass\n",
    "\n",
    "    def store(self, provider_id, user_id, attribute_name, secret_protected_attribute):\n",
    "        pass\n",
    "\n",
    "\n",
    "# For the purpose of this demonstration, however, we're going to use an example implementation that uses CSV files for storing data locally\n",
    "\n",
    "# Replace with your own files if you wish.\n",
    "# These files will be overwritten with new example data after running this notebook.\n",
    "filename_third_party = '../../../data/risk_monitoring/third_party_local_data.csv'\n",
    "filename_service_provider = '../../../data/risk_monitoring/service_provider_remote_data.csv'"
   ]
  },
  {
   "cell_type": "code",
   "execution_count": 4,
   "id": "9c0088cb-5344-49bf-a5e6-82012922f39d",
   "metadata": {},
   "outputs": [],
   "source": [
    "# When the user wants to donate the attribute, we need to:\n",
    "# (1) generate multi-party components from the value of the attribute, \n",
    "# (2) store the local component\n",
    "# (3) send the Model Owner component to them\n",
    "\n",
    "# Model owner authenticates themselves with an ID, e.g., an API key \n",
    "# (the exact form of this identifier will depend on the third party implementation)\n",
    "# How to safely authenticate will be determined when we build project demonstrators. \n",
    "# For now, we assume this has already happened and the third party has the unique provider identifier.\n",
    "provider_id = '346723798'\n",
    "\n",
    "# Model owner, when redirecting the user to the TP, sends a unique ID that will identify the user+application process. \n",
    "# The third party simply treats this as a string, always used in conjuction with the provider_id.\n",
    "# In this example, we're going to generate multiparty data for 10 different users:\n",
    "user_ids = ['11', '137', '171', '234', '279', '311', '377', '435', '716', '931']\n",
    "\n",
    "# When donating data, a user can select an attribute they wish to donate, e.g., attribute_name = 'gender'\n",
    "# The process has to be repeated for each attribute separately.\n",
    "# A catalogue of attributes is available at the Third Party.\n",
    "attribute_name = 'gender'\n",
    "\n",
    "# When donating data, the user selects the value of their attribute, e.g., attribute_value = 'female'\n",
    "attribute_value = 'female'\n",
    "\n",
    "# For the users in the example, let's deposit the following data:\n",
    "\n",
    "deposited_data = [\n",
    "    [('gender', 'female'), ('disabled', 'False')],\n",
    "    [('gender', 'male'), ('disabled', 'False')],\n",
    "    [('gender', 'male'), ('disabled', 'True')],\n",
    "    [('gender', 'non-binary'), ('disabled', 'False')],\n",
    "    [('gender', 'female'), ('disabled', 'False')],\n",
    "    [('gender', 'female'), ('disabled', 'True')],\n",
    "    [('gender', 'male'), ('disabled', 'False')],\n",
    "    [('gender', 'female'), ('disabled', 'False')],\n",
    "    [('gender', 'male'), ('disabled', 'False')],\n",
    "    [('gender', 'male'), ('disabled', 'False')],\n",
    "]\n",
    "\n",
    "data = zip(user_ids, deposited_data)\n",
    "\n",
    "# We now deposit the data for each user and sensitive attribute:\n",
    "\n",
    "\n",
    "handler = MultipartyDataHandlerCSV(filename_third_party)\n",
    "\n",
    "service_provider_handler = ServiceProviderHandlerCSV(filename_service_provider)\n",
    "\n",
    "for user_id, deposits in data:\n",
    "    for (attribute_name, attribute_value) in deposits:\n",
    "        local_party_val, remote_party_val = handler.generate_multiparty_data(\n",
    "            provider_id, user_id, attribute_name, attribute_value)\n",
    "        \n",
    "        # The handler below:\n",
    "        # (1) maps the above attribute parameters to an integer value,\n",
    "        # (2) generates multiparty components\n",
    "        # (3) stores the local component\n",
    "        # (4) sends the remote component\n",
    "        handler.store(provider_id, user_id, attribute_name, local_party_val)\n",
    "        handler.send_to_model_owner(provider_id, user_id, attribute_name, remote_party_val, service_provider_handler)\n",
    "\n",
    "handler.save_session_data()\n",
    "service_provider_handler.save_session_data()"
   ]
  },
  {
   "cell_type": "markdown",
   "id": "372470f0",
   "metadata": {},
   "source": [
    "### Method B: Front-end-supported attribute distribution"
   ]
  },
  {
   "cell_type": "markdown",
   "metadata": {
    "collapsed": false
   },
   "source": [
    "UNCOMMENT THE FOLLOWING CODE BLOCK TO RUN THE FRONTEND-SUPPORTED EXAMPLE\n",
    "(the code is unsupported for sphinx documentation, but it is available in the repository for reproducibility)"
   ]
  },
  {
   "cell_type": "code",
   "execution_count": 5,
   "id": "9f4987bb",
   "metadata": {},
   "outputs": [],
   "source": [
    "# # In method A, the third party generates the randomised two-party components from the protected attribute, and then distribute the components to the Third Party (locally) and the Model Owner (remotely)\n",
    "# # As the third party can directly access the sensitive attributes before the deposit, Method A has the following trust assumptions:\n",
    "# # The third party keeps the sensitive attributes save before depositing the components, and discards the raw value of the attribute after depositing\n",
    "#\n",
    "# # Here we illustrate another possible solution:\n",
    "# # The randomised two-party components are generated and encrypted in the front end of data donation, and the Third Party and the Model Owner only need to listen and store the data\n",
    "# # One example of front end that supports data donation, encryption, and distribution can be found in frontend/index.html.\n",
    "# # For better illustration, the service provider and third party listen data from the frontend at the same app in the example; In real world cases, they are two independent parties and listen in different apps.\n",
    "#\n",
    "#\n",
    "# import threading\n",
    "# from flask import Flask, request, jsonify, send_file\n",
    "# from flask_cors import CORS\n",
    "# from cryptography.hazmat.primitives import serialization\n",
    "#\n",
    "#\n",
    "# app = Flask(__name__)\n",
    "# CORS(app)\n",
    "#\n",
    "# # Load RSA private key\n",
    "# private_key_path = \"./monitoring/RSA/private_key.pem\"\n",
    "# with open(private_key_path, \"rb\") as f:\n",
    "#    private_key = serialization.load_pem_private_key(f.read(), password=None)\n",
    "#\n",
    "# # Load RSA public key and send it to frontend\n",
    "# public_key_path = \"./monitoring/RSA/public_key.pem\"\n",
    "# @app.route('/public_key')\n",
    "# def get_public_key():\n",
    "#     return send_file(public_key_path, mimetype=\"text/plain\")\n",
    "#\n",
    "# # Replace with your own files if you wish.\n",
    "# filename_third_party = '../../../data/risk_monitoring/third_party_local_data.csv'\n",
    "# filename_service_provider = '../../../data/risk_monitoring/service_provider_remote_data.csv'\n",
    "# service_provider_handler = ServiceProviderHandlerCSV(filename_third_party)\n",
    "# third_party_handler = MultipartyDataHandlerCSV(filename_service_provider)\n",
    "#\n",
    "#\n",
    "#\n",
    "# # Service provider endpoint listens, decrypts and stores encrypted data sent by the client using the private key\n",
    "# @app.route('/store_service_provider', methods=['POST'])\n",
    "# def store_service_provider():\n",
    "#     encrypted_data = request.json.get(\"data\")\n",
    "#     if not encrypted_data:\n",
    "#         return jsonify({\"error\": \"Missing encrypted data\"}), 400\n",
    "#\n",
    "#     result = service_provider_handler.store_encrypted_data(encrypted_data, private_key)\n",
    "#     # print(encrypted_data, \"-----\", result)\n",
    "#     return jsonify(result)\n",
    "#\n",
    "# # Third party endpoint listens, decrypts and stores encrypted data sent by the client using the private key\n",
    "# @app.route('/store_third_party', methods=['POST'])\n",
    "# def store_third_party():\n",
    "#     encrypted_data = request.json.get(\"data\")\n",
    "#     if not encrypted_data:\n",
    "#         return jsonify({\"error\": \"Missing encrypted data\"}), 400\n",
    "#\n",
    "#     result = third_party_handler.store_encrypted_data(encrypted_data, private_key)\n",
    "#     # print(encrypted_data, \"-----\", result)\n",
    "#     return jsonify(result)\n",
    "#\n",
    "#\n",
    "# def run_flask():\n",
    "#     app.run(debug=True, use_reloader=False)\n",
    "#\n",
    "# # start listening - try some input from the front end\n",
    "# # for testing, open frontend/index.html first\n",
    "# flask_thread = threading.Thread(target=run_flask)\n",
    "# flask_thread.start()\n"
   ]
  },
  {
   "cell_type": "markdown",
   "id": "73673845-5cc1-4b6c-8787-7b74f4b25bb0",
   "metadata": {},
   "source": [
    "## Protocol Stage 3: Fairness measurement"
   ]
  },
  {
   "cell_type": "markdown",
   "id": "0ec8302c",
   "metadata": {},
   "source": [
    "### case 1: illustration of fairness metrics"
   ]
  },
  {
   "cell_type": "markdown",
   "id": "910a1afd",
   "metadata": {},
   "source": [
    "#### method 1: pseudo two-party computation (easier to operate; stronger trust assumption on TTP)"
   ]
  },
  {
   "cell_type": "code",
   "execution_count": 6,
   "id": "6d10b713",
   "metadata": {},
   "outputs": [
    {
     "name": "stdout",
     "output_type": "stream",
     "text": [
      "The fraction of female candidates in the pool is: 0.400000\n",
      "The exposure of female candidates in the ranking (manual weights) is: 0.600000\n",
      "The exposure of female candidates in the ranking (Inverse Log Model) is: 0.470365\n",
      "The exposure of female candidates in the ranking (Exp Decay Model) is: 0.447189\n",
      "Top-3 fairness of female candidates in the ranking (Skew@k) is: -0.182322\n",
      "Top-3 fairness of female candidates in the ranking (Discounted Rep. Diff@k) is: -0.130930 \n",
      "The demographic parity measurement of female candidates in the pool is: 1.000000\n",
      "The equal opportunity measurement of female candidates in the pool is: 0.500000\n"
     ]
    }
   ],
   "source": [
    "# method 1: Pseudo two-party computation with reconstruction of sensitive attributes for fairness measurement (on-the-fly). It is easier to operate, but with a stronger trust assumption on TTP.\n",
    "\n",
    "# Model owner wants to measure the diversity of a candidate pool\n",
    "\n",
    "# Locally, the model owner creates a list representing the pool of pairs: (user_id, remote_attr_secret)\n",
    "\n",
    "data_handler = MultipartyDataHandlerCSV(filename_third_party)\n",
    "service_provider_handler = ServiceProviderHandlerCSV(filename_service_provider)\n",
    "\n",
    "# We want to measure fairness for the ranking of these 5 users:\n",
    "user_ids = ['11', '137', '171', '234', '279']\n",
    "\n",
    "# They would like to measure diversity wrt gender\n",
    "attribute_name = 'gender'\n",
    "\n",
    "# And measure the prevalence of female candidates\n",
    "attribute_value = 'female'\n",
    "\n",
    "# We create a pool of user IDs together with the local secret components of the third party:\n",
    "secrets = [service_provider_handler.local_data[provider_id][u][attribute_name] for u in user_ids]\n",
    "pool = list(zip(user_ids, secrets))\n",
    "\n",
    "# They create a handler with their API authentication key\n",
    "handler = MultipartyFairnessMeasurement(provider_id, data_handler)\n",
    "\n",
    "\n",
    "# They send this data to the third party, and get the value of the pool diversity fairness metric back:\n",
    "diversity = handler.measure_pool_diversity(pool, attribute_name, attribute_value)\n",
    "\n",
    "# In some cases, they might want to measure conditional diversity -- diversity of the pool from among e.g. qualified candidates.\n",
    "# An optional 'conditionals' argument allows them to specify a list of boolean values\n",
    "# specifying whether the candidate should be included in the computation.\n",
    "# Assertion: len(pool) == len(conditionals)\n",
    "diversity = handler.measure_pool_diversity(pool, attribute_name, attribute_value,\n",
    "                                   conditionals=[True, True, True, True, True])\n",
    "\n",
    "# This is the fraction of female candidates in the above pool (2/5):\n",
    "print (\"The fraction of female candidates in the pool is: %f\" % (diversity))\n",
    "\n",
    "\n",
    "# They might also want to measure the exposure of a given group in a ranking under a selected browsing model.\n",
    "# A browsing model is a set of weights indicating how much attention searchers pay to a given ranking position.\n",
    "exposure = handler.measure_group_exposure(pool, attribute_name, attribute_value,\n",
    "                                          browsing_model = [0.5, 0.2, 0.1, 0.1, 0.1])\n",
    "\n",
    "# This is the fraction of exposure of female candidates in the above ranking, from positions 1 and 5 (0.6):\n",
    "print (\"The exposure of female candidates in the ranking (manual weights) is: %f\" % (exposure))\n",
    "\n",
    "# In addition to mannually defining the weights, The browsing model can also be based on predefined models, such as Inverse Log Model and Exponential Decay Model\n",
    "exposure = handler.measure_group_exposure(pool, attribute_name, attribute_value, browsing_model=\"inverse_log\")\n",
    "print (\"The exposure of female candidates in the ranking (Inverse Log Model) is: %f\" % (exposure))\n",
    "\n",
    "exposure = handler.measure_group_exposure(pool, attribute_name, attribute_value, browsing_model=\"exp_decay\", browsing_param=0.7)\n",
    "print (\"The exposure of female candidates in the ranking (Exp Decay Model) is: %f\" % (exposure))\n",
    "\n",
    "# They might also want to evaluate fairness based on the top-k positions of a ranking.\n",
    "\n",
    "# Skew: Measures the difference between the proportion of the group in top-k vs. overall.\n",
    "fairness_skew = handler.measure_topk_fairness(pool, attribute_name, attribute_value, k=3, method=\"skew\")\n",
    "print(\"Top-3 fairness of female candidates in the ranking (Skew@k) is: %f\" % fairness_skew)\n",
    "\n",
    "# Discounted Representation Difference: Captures position-sensitive differences in group presence in top-k.\n",
    "fairness_discounted_diff = handler.measure_topk_fairness(pool, attribute_name, attribute_value, k=3, method=\"discounted_rep_diff\")\n",
    "print(\"Top-3 fairness of female candidates in the ranking (Discounted Rep. Diff@k) is: %f \" % fairness_discounted_diff)\n",
    "\n",
    "\n",
    "\n",
    "# To measure the accept rate of a given group for demographic parity\n",
    "# For this a pool_stage list (user_id: string, targeted: 1, selected: bool) needs to be provided\n",
    "# For each candidate, the first bool (targeted) is set to 1 to include all potential candidates;\n",
    "# and the second bool (selected) indicates the decisions (e.g., final interview or recruitment decisions)\n",
    "pool_stage = [(\"11\", True, True), (\"137\", True, True), (\"171\", True, False), (\"234\", True, False), (\"279\", True, True)]\n",
    "demographic_parity = handler.measure_accept_rate(pool, pool_stage, attribute_name, attribute_value)\n",
    "\n",
    "# This is the proportion of qualified female individuals who were correctly selected:\n",
    "print (\"The demographic parity measurement of female candidates in the pool is: %f\" % (demographic_parity))\n",
    "\n",
    "# To measure the proportion of qualified individuals who were correctly selected.\n",
    "# For this a pool_stage list (user_id: string, targeted: bool, selected: bool) needs to be provided\n",
    "# For each candidate, the first bool (targeted) is set to whether the candidate is qualified or not, e.g., based on evaluations by a group of experts;\n",
    "# and the second bool (selected) indicates the decisions (e.g., final interview or recruitment decisions)\n",
    "pool_stage = [(\"11\", True, False), (\"137\", True, True), (\"171\", False, False), (\"234\", False, True), (\"279\", True, True)]\n",
    "equal_opportunity = handler.measure_accept_rate(pool, pool_stage, attribute_name, attribute_value)\n",
    "\n",
    "# This is the proportion of qualified female individuals who were correctly selected:\n",
    "print (\"The equal opportunity measurement of female candidates in the pool is: %f\" % (equal_opportunity))"
   ]
  },
  {
   "cell_type": "markdown",
   "id": "929a5494",
   "metadata": {},
   "source": [
    "#### method 2: two-party computation (higher demands on coordination between two parties; stronger data protection)"
   ]
  },
  {
   "cell_type": "code",
   "execution_count": null,
   "id": "c9d676d6",
   "metadata": {},
   "outputs": [
    {
     "name": "stdout",
     "output_type": "stream",
     "text": [
      "SERVICE-PROVIDER OUTPUT: The fraction of female candidates in the pool is: 0.400000\n",
      "SERVICE-PROVIDER OUTPUT: The exposure of female candidates in the ranking (manual weights) is: 0.600000\n",
      "SERVICE-PROVIDER OUTPUT: The exposure of female candidates in the ranking (Inverse Log Model) is: 0.470365\n",
      "SERVICE-PROVIDER OUTPUT: The exposure of female candidates in the ranking (Exp Decay Model) is: 0.447189\n",
      "SERVICE-PROVIDER OUTPUT: Top-3 fairness of female candidates in the ranking (Skew@k) is: -0.182322\n",
      "SERVICE-PROVIDER OUTPUT: Top-3 fairness of female candidates in the ranking (Discounted Rep. Diff@k) is: -0.130930\n",
      "SERVICE-PROVIDER OUTPUT: The demographic parity measurement of female candidates in the pool is: 1.000000\n",
      "SERVICE-PROVIDER OUTPUT: The equal opportunity measurement of female candidates in the pool is: 0.500000\n",
      "THIRD-PARTY OUTPUT: The fraction of female candidates in the pool is: 0.400000\n",
      "THIRD-PARTY OUTPUT: The exposure of female candidates in the ranking (manual weights) is: 0.600000\n",
      "THIRD-PARTY OUTPUT: The exposure of female candidates in the ranking (Inverse Log Model) is: 0.470365\n",
      "THIRD-PARTY OUTPUT: The exposure of female candidates in the ranking (Exp Decay Model) is: 0.447189\n",
      "THIRD-PARTY OUTPUT: Top-3 fairness of female candidates in the ranking (Skew@k) is: -0.182322\n",
      "THIRD-PARTY OUTPUT: Top-3 fairness of female candidates in the ranking (Discounted Rep. Diff@k) is: -0.130930\n",
      "THIRD-PARTY OUTPUT: The demographic parity measurement of female candidates in the pool is: 1.000000\n",
      "THIRD-PARTY OUTPUT: The equal opportunity measurement of female candidates in the pool is: 0.500000\n",
      "\n"
     ]
    },
    {
     "data": {
      "text/plain": [
       "0"
      ]
     },
     "execution_count": 7,
     "metadata": {},
     "output_type": "execute_result"
    }
   ],
   "source": [
    "# #execute this cell to simulate the output of the cell above\n",
    "\n",
    "# import subprocess\n",
    "\n",
    "# third_party_process = subprocess.Popen([\"python\", \"monitoring/fairness.py\", \"-M2\", \"-I0\", \"--no-log\"], stdout=subprocess.PIPE, stderr=subprocess.PIPE, text=True)\n",
    "# service_provider_process = subprocess.Popen([\"python\", \"monitoring/fairness.py\", \"-M2\", \"-I1\", \"--no-log\"])\n",
    "\n",
    "# out, err = third_party_process.communicate()\n",
    "# print(out)\n",
    "\n",
    "# third_party_process.wait()\n",
    "# service_provider_process.wait()"
   ]
  },
  {
   "cell_type": "markdown",
   "id": "1f4c6e5d-efbe-433c-9c66-4a9a93d9df0f",
   "metadata": {},
   "source": [
    "### case 2: intersectional metrics"
   ]
  },
  {
   "cell_type": "markdown",
   "id": "d1acb47a",
   "metadata": {},
   "source": [
    "#### method 1: pseudo two-party computation (easier to operate; stronger trust assumption on TTP)"
   ]
  },
  {
   "cell_type": "code",
   "execution_count": 8,
   "id": "c4b51da0",
   "metadata": {},
   "outputs": [
    {
     "name": "stdout",
     "output_type": "stream",
     "text": [
      "The fraction of female disabled candidates in the pool is: 0.200000\n",
      "The exposure of female disabled candidates in the ranking is: 0.100000\n",
      "The demographic parity measurement of female disabled candidates in the pool is: 1.000000\n",
      "The equal opportunity measurement of female disabled candidates in the pool is: 1.000000\n"
     ]
    }
   ],
   "source": [
    "# method 1: Pseudo two-party computation with reconstruction of sensitive attributes for fairness measurement (on-the-fly). It is easier to operate, but with a stronger trust assumption on TTP.\n",
    "\n",
    "# Model owner wants to measure the diversity of a candidate pool\n",
    "\n",
    "# Locally, the model owner creates a list representing the pool of pairs: (user_id, remote_attr_secret)\n",
    "\n",
    "data_handler = MultipartyDataHandlerCSV(filename_third_party)\n",
    "service_provider_handler = ServiceProviderHandlerCSV(filename_service_provider)\n",
    "\n",
    "# We want to measure fairness for the ranking of these 5 users:\n",
    "user_ids = ['11', '137', '171', '234', '311']\n",
    "\n",
    "# They would like to measure diversity wrt gender and disability\n",
    "attribute_names = ['gender', 'disabled']\n",
    "\n",
    "# And measure the prevalence of female candidates that are disabled\n",
    "attribute_values = ['female', 'True']\n",
    "\n",
    "# We create a pool of user IDs together with the local secret components of the third party:\n",
    "pool = [(u, {attribute_name: service_provider_handler.local_data[provider_id][u][attribute_name] for attribute_name in attribute_names})\n",
    "    for u in user_ids]\n",
    "\n",
    "# They create a handler with their API authentication key\n",
    "handler = MultipartyFairnessMeasurement(provider_id, data_handler)\n",
    "\n",
    "# They send this data to the third party, and get the value of the pool diversity fairness metric back:\n",
    "diversity = handler.measure_pool_diversity(pool, attribute_names, attribute_values)\n",
    "\n",
    "# In some cases, they might want to measure conditional diversity -- diversity of the pool from among e.g. qualified candidates. \n",
    "# An optional 'conditionals' argument allows them to specify a list of boolean values\n",
    "# specifying whether the candidate should be included in the computation.\n",
    "# Assertion: len(pool) == len(conditionals)\n",
    "diversity = handler.measure_pool_diversity(pool, attribute_names, attribute_values, \n",
    "                                   conditionals=[True, True, True, True, True])\n",
    "\n",
    "# This is the fraction of female candidates in the above pool (2/5):\n",
    "print (\"The fraction of female disabled candidates in the pool is: %f\" % (diversity))\n",
    "\n",
    "\n",
    "# They might also want to measure the exposure of a given group in a ranking under a selected browsing model.\n",
    "# A browsing model is a set of weights indicating how much attention searchers pay to a given ranking position.\n",
    "exposure = handler.measure_group_exposure(pool, attribute_names, attribute_values, \n",
    "                                          browsing_model = [0.5, 0.2, 0.1, 0.1, 0.1])\n",
    "\n",
    "# This is the fraction of exposure of female candidates in the above ranking, from positions 1 and 5 (0.6):\n",
    "print (\"The exposure of female disabled candidates in the ranking is: %f\" % (exposure))\n",
    "\n",
    "\n",
    "# To measure the accept rate of a given group for demographic parity\n",
    "# For this a pool_stage list (user_id: string, selected: bool) needs to be provided\n",
    "pool_stage = [(\"11\", True, True), (\"137\", True, True), (\"171\", True, False), (\"234\", True, False), (\"311\", True, True)]\n",
    "demographic_parity = handler.measure_accept_rate(pool, pool_stage, attribute_names, attribute_values)\n",
    "\n",
    "# This is the proportion of qualified female individuals who were correctly selected:\n",
    "print (\"The demographic parity measurement of female disabled candidates in the pool is: %f\" % (demographic_parity))\n",
    "\n",
    "# To measure the proportion of qualified individuals who were correctly selected.\n",
    "# For this a pool_stage list (user_id: string, qualified: bool, selected: bool) needs to be provided\n",
    "pool_stage = [(\"11\", True, False), (\"137\", True, True), (\"171\", False, False), (\"234\", False, True), (\"311\", True, True)]\n",
    "equal_opportunity = handler.measure_accept_rate(pool, pool_stage, attribute_names, attribute_values)\n",
    "\n",
    "# This is the proportion of qualified female individuals who were correctly selected:\n",
    "print (\"The equal opportunity measurement of female disabled candidates in the pool is: %f\" % (equal_opportunity))"
   ]
  },
  {
   "cell_type": "markdown",
   "id": "ce0ced04",
   "metadata": {},
   "source": [
    "#### method 2: two-party computation (higher demands on coordination between two parties; stronger data protection)"
   ]
  },
  {
   "cell_type": "code",
   "execution_count": null,
   "id": "a19f5368",
   "metadata": {},
   "outputs": [
    {
     "name": "stdout",
     "output_type": "stream",
     "text": [
      "SERVICE-PROVIDER OUTPUT: the fraction of female disabled candidates in the pool is: 0.200000\n",
      "SERVICE-PROVIDER OUTPUT: The exposure of female disabled candidates in the ranking is: 0.100000\n",
      "SERVICE-PROVIDER OUTPUT: The demographic parity score for female disabled candidates is: 1.000000\n",
      "SERVICE-PROVIDER OUTPUT: The equal opportunity score for female disabled candidates is: 1.000000\n",
      "THIRD-PARTY OUTPUT: the fraction of female disabled candidates in the pool is: 0.200000\n",
      "THIRD-PARTY OUTPUT: The exposure of female disabled candidates in the ranking is: 0.100000\n",
      "THIRD-PARTY OUTPUT: The demographic parity score for female disabled candidates is: 1.000000\n",
      "THIRD-PARTY OUTPUT: The equal opportunity score for female disabled candidates is: 1.000000\n",
      "\n"
     ]
    },
    {
     "data": {
      "text/plain": [
       "0"
      ]
     },
     "execution_count": 9,
     "metadata": {},
     "output_type": "execute_result"
    }
   ],
   "source": [
    "# import subprocess\n",
    "\n",
    "# third_party_process = subprocess.Popen([\"python\", \"monitoring/intersection.py\", \"-M2\", \"-I0\", \"--no-log\"], stdout=subprocess.PIPE, stderr=subprocess.PIPE, text=True)\n",
    "# service_provider_process = subprocess.Popen([\"python\", \"monitoring/intersection.py\", \"-M2\", \"-I1\", \"--no-log\"])\n",
    "\n",
    "# out, err = third_party_process.communicate()\n",
    "# print(out)\n",
    "\n",
    "# third_party_process.wait()\n",
    "# service_provider_process.wait()"
   ]
  },
  {
   "cell_type": "markdown",
   "id": "7f5b2346",
   "metadata": {},
   "source": [
    "### case 3: one-party computation"
   ]
  },
  {
   "cell_type": "markdown",
   "id": "2f14b29f",
   "metadata": {},
   "source": [
    "It's possible that there is no trust third party in real-life applications.\n",
    "While the package can accommodate scenarios where one party has full access to the sensitive data, it is strongly recommended to distribute data to 2 different stakeholders (e.g. different departments) to secure sensitive data and simulate two-party computation. "
   ]
  },
  {
   "cell_type": "markdown",
   "id": "751a7da8",
   "metadata": {},
   "source": [
    "### case 4: visualization and reliability testing"
   ]
  },
  {
   "cell_type": "code",
   "execution_count": 10,
   "id": "40bc1b09",
   "metadata": {},
   "outputs": [
    {
     "data": {
      "image/png": "[encoded data removed]",
      "text/plain": [
       "<Figure size 1200x500 with 1 Axes>"
      ]
     },
     "metadata": {},
     "output_type": "display_data"
    }
   ],
   "source": [
    "# As the fairness metrics are based on samples from data donation, reliability testing is important to help interpret the results.\n",
    "# Here we provide an example of showing the accepted rate with confidence interval to help interpret demographic parity.\n",
    "\n",
    "handler = MultipartyFairnessMeasurementMPYC(provider_id, data_handler)\n",
    "\n",
    "# Suppose non-binary, female, male has accepted rate of 0.3, 0.4, 0.6\n",
    "p = [0.3, 0.4, 0.6]\n",
    "\n",
    "# This is the sample size of each group\n",
    "n = [10, 100, 400]\n",
    "\n",
    "# To visualize the accepted rate with confidence interval\n",
    "handler._plot_confidence_intervals(p, n, labels=['non-binary', 'female', 'male'])\n",
    "\n",
    "#higher n result in lower confidence intervals"
   ]
  },
  {
   "cell_type": "code",
   "execution_count": 11,
   "id": "ef8afb8d",
   "metadata": {},
   "outputs": [
    {
     "data": {
      "image/png": "[encoded data removed]",
      "text/plain": [
       "<Figure size 1200x500 with 1 Axes>"
      ]
     },
     "metadata": {},
     "output_type": "display_data"
    }
   ],
   "source": [
    "# Knowing the full size (N) of specific group can also facilitate the interpretation (e.g., n=100 among N=120 female candidates donate the data and compose the sample)\n",
    "p = [0.3, 0.4]\n",
    "n = [100, 100]\n",
    "N = [120, 1500]\n",
    "\n",
    "handler._plot_confidence_intervals(p, n, N, labels=['female', 'male'])\n",
    "# a higher donation rate results in lower confidence intervals"
   ]
  },
  {
   "cell_type": "code",
   "execution_count": null,
   "id": "1c3f330e",
   "metadata": {},
   "outputs": [],
   "source": []
  }
 ],
 "metadata": {
  "kernelspec": {
   "display_name": "findhrAPImain",
   "language": "python",
   "name": "python3"
  },
  "language_info": {
   "codemirror_mode": {
    "name": "ipython",
    "version": 3
   },
   "file_extension": ".py",
   "mimetype": "text/x-python",
   "name": "python",
   "nbconvert_exporter": "python",
   "pygments_lexer": "ipython3",
   "version": "3.11.11"
  }
 },
 "nbformat": 4,
 "nbformat_minor": 5
}
