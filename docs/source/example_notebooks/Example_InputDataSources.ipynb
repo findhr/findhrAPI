{
 "cells": [
  {
   "cell_type": "markdown",
   "metadata": {
    "collapsed": false,
    "jupyter": {
     "outputs_hidden": false
    }
   },
   "source": [
    "# Input Data Sources\n",
    "\n",
    "This notebook shows an example of how to load raw data from a CSV file and how to define metadata. Other solutions are possible, including loading data and metadata from a databases or from binary files, depending on an organization's information system."
   ]
  },
  {
   "cell_type": "code",
   "execution_count": 10,
   "metadata": {
    "scrolled": true,
    "ExecuteTime": {
     "end_time": "2025-04-07T21:01:21.615715Z",
     "start_time": "2025-04-07T21:01:21.580113Z"
    }
   },
   "outputs": [
    {
     "name": "stdout",
     "output_type": "stream",
     "text": [
      "The autoreload extension is already loaded. To reload it, use:\n",
      "  %reload_ext autoreload\n"
     ]
    }
   ],
   "source": [
    "%load_ext autoreload\n",
    "%autoreload 2\n",
    "\n",
    "# global imports\n",
    "import pandas as pd\n",
    "import numpy as np\n",
    "from ast import literal_eval\n",
    "# local imports\n",
    "from findhr.preprocess.metadata import JSONMetadata, validate_schema"
   ]
  },
  {
   "cell_type": "code",
   "execution_count": 18,
   "metadata": {
    "collapsed": false,
    "jupyter": {
     "outputs_hidden": false
    },
    "ExecuteTime": {
     "end_time": "2025-04-07T21:02:28.421942Z",
     "start_time": "2025-04-07T21:02:28.318814Z"
    }
   },
   "outputs": [
    {
     "data": {
      "text/plain": "    id_c                             education_background_c  \\\n5      5  [{'institution': 'Complutense University Of Ma...   \n6      6  [{'institution': 'Coronel Rosales Agricultural...   \n10    10  [{'institution': 'Complutense University Of Ma...   \n11    11  [{'institution': 'Les Ribera De Los Molinos', ...   \n15    15  [{'institution': 'Escuela Politcnica Superior ...   \n\n                            professional_experience_c  \\\n5   [{'institution': 'Stylo Milano', 'start_date':...   \n6   [{'institution': 'Securitas Direct', 'start_da...   \n10  [{'institution': 'Carrefour Express', 'start_d...   \n11  [{'institution': 'Decimas Sl', 'start_date': '...   \n15  [{'institution': 'Reintegrate', 'start_date': ...   \n\n                                             skills_c gender_c  \\\n5   [Communications, Social Integration, Microsoft...      Man   \n6   [Refinancing, Economy, Microsoft Excel, Collec...      Man   \n10  [Entrepreneurship, Literacy, Web Design, Adobe...    Woman   \n11  [Consulting, Sap Crm, Collections, Automation,...    Woman   \n15  [Microsoft Word, Biofuels, English, Entreprene...      Man   \n\n   agg_perceived_foreign_c  \n5                       No  \n6                       No  \n10                      No  \n11                      No  \n15                      No  ",
      "text/html": "<div>\n<style scoped>\n    .dataframe tbody tr th:only-of-type {\n        vertical-align: middle;\n    }\n\n    .dataframe tbody tr th {\n        vertical-align: top;\n    }\n\n    .dataframe thead th {\n        text-align: right;\n    }\n</style>\n<table border=\"1\" class=\"dataframe\">\n  <thead>\n    <tr style=\"text-align: right;\">\n      <th></th>\n      <th>id_c</th>\n      <th>education_background_c</th>\n      <th>professional_experience_c</th>\n      <th>skills_c</th>\n      <th>gender_c</th>\n      <th>agg_perceived_foreign_c</th>\n    </tr>\n  </thead>\n  <tbody>\n    <tr>\n      <th>5</th>\n      <td>5</td>\n      <td>[{'institution': 'Complutense University Of Ma...</td>\n      <td>[{'institution': 'Stylo Milano', 'start_date':...</td>\n      <td>[Communications, Social Integration, Microsoft...</td>\n      <td>Man</td>\n      <td>No</td>\n    </tr>\n    <tr>\n      <th>6</th>\n      <td>6</td>\n      <td>[{'institution': 'Coronel Rosales Agricultural...</td>\n      <td>[{'institution': 'Securitas Direct', 'start_da...</td>\n      <td>[Refinancing, Economy, Microsoft Excel, Collec...</td>\n      <td>Man</td>\n      <td>No</td>\n    </tr>\n    <tr>\n      <th>10</th>\n      <td>10</td>\n      <td>[{'institution': 'Complutense University Of Ma...</td>\n      <td>[{'institution': 'Carrefour Express', 'start_d...</td>\n      <td>[Entrepreneurship, Literacy, Web Design, Adobe...</td>\n      <td>Woman</td>\n      <td>No</td>\n    </tr>\n    <tr>\n      <th>11</th>\n      <td>11</td>\n      <td>[{'institution': 'Les Ribera De Los Molinos', ...</td>\n      <td>[{'institution': 'Decimas Sl', 'start_date': '...</td>\n      <td>[Consulting, Sap Crm, Collections, Automation,...</td>\n      <td>Woman</td>\n      <td>No</td>\n    </tr>\n    <tr>\n      <th>15</th>\n      <td>15</td>\n      <td>[{'institution': 'Escuela Politcnica Superior ...</td>\n      <td>[{'institution': 'Reintegrate', 'start_date': ...</td>\n      <td>[Microsoft Word, Biofuels, English, Entreprene...</td>\n      <td>Man</td>\n      <td>No</td>\n    </tr>\n  </tbody>\n</table>\n</div>"
     },
     "execution_count": 18,
     "metadata": {},
     "output_type": "execute_result"
    }
   ],
   "source": [
    "# Load CDS (Candidate Data Source) DataFrame from a CSV file. \n",
    "# Here, the CSV file is a sample of the interaction log synthetic data generated in the FINDHR project.\n",
    "# The converters argument is specific of an organization's information system, because it depends on the source format of raw data.\n",
    "# Only candidate_id is mandatory, all other columns are features of the candidate available in the organization's information system.\n",
    "\n",
    "df_CDS = pd.read_csv('../../../data/upf_gen/candidates.csv', index_col=0,\n",
    "            converters={'professional_experience_c': literal_eval,\n",
    "                        'education_background_c': literal_eval,\n",
    "                        'skills_c': literal_eval})\n",
    "df_CDS.head()"
   ]
  },
  {
   "cell_type": "code",
   "execution_count": 25,
   "metadata": {
    "collapsed": false,
    "jupyter": {
     "outputs_hidden": false
    },
    "ExecuteTime": {
     "end_time": "2025-04-07T21:05:17.895979Z",
     "start_time": "2025-04-07T21:05:17.848174Z"
    }
   },
   "outputs": [
    {
     "data": {
      "text/plain": "   id_j                                   education_reqs_j  \\\n0     1  [Bachelor's Degree in Information Society Tech...   \n1     2  [Graduated In Administration And Management Cf...   \n2     3                                                 []   \n3     4  [Graduated In Administration And Management Cf...   \n4     5  [Law Bachelor, Degree In Law, Higher Degree In...   \n\n                              experience_reqs_role_j  \\\n0  [Data Analyst, Analyst, Embedded Software Engi...   \n1  [Administrative, Administrative Assistant, Ass...   \n2  [Sales Assistant, Saleswoman, Commercial Advisor]   \n3                  [Project Manager, Project Leader]   \n4                                       [Consultant]   \n\n   experience_reqs_duration_j  \\\n0                          12   \n1                          36   \n2                          12   \n3                          12   \n4                          12   \n\n                                            skills_j gender_j  \\\n0  [English, Teamwork, Microsoft Office, Python (...      Man   \n1  [English, Management, Planning, Microsoft Exce...      Man   \n2  [English, Spanish, Communications, Communicati...      Man   \n3  [Organization, Management, Teamwork, Planning,...      Man   \n4  [Punctuality, Organization, Accounting, Englis...      Man   \n\n  agg_perceived_foreign_j  \n0                      No  \n1                      No  \n2                      No  \n3                      No  \n4                      No  ",
      "text/html": "<div>\n<style scoped>\n    .dataframe tbody tr th:only-of-type {\n        vertical-align: middle;\n    }\n\n    .dataframe tbody tr th {\n        vertical-align: top;\n    }\n\n    .dataframe thead th {\n        text-align: right;\n    }\n</style>\n<table border=\"1\" class=\"dataframe\">\n  <thead>\n    <tr style=\"text-align: right;\">\n      <th></th>\n      <th>id_j</th>\n      <th>education_reqs_j</th>\n      <th>experience_reqs_role_j</th>\n      <th>experience_reqs_duration_j</th>\n      <th>skills_j</th>\n      <th>gender_j</th>\n      <th>agg_perceived_foreign_j</th>\n    </tr>\n  </thead>\n  <tbody>\n    <tr>\n      <th>0</th>\n      <td>1</td>\n      <td>[Bachelor's Degree in Information Society Tech...</td>\n      <td>[Data Analyst, Analyst, Embedded Software Engi...</td>\n      <td>12</td>\n      <td>[English, Teamwork, Microsoft Office, Python (...</td>\n      <td>Man</td>\n      <td>No</td>\n    </tr>\n    <tr>\n      <th>1</th>\n      <td>2</td>\n      <td>[Graduated In Administration And Management Cf...</td>\n      <td>[Administrative, Administrative Assistant, Ass...</td>\n      <td>36</td>\n      <td>[English, Management, Planning, Microsoft Exce...</td>\n      <td>Man</td>\n      <td>No</td>\n    </tr>\n    <tr>\n      <th>2</th>\n      <td>3</td>\n      <td>[]</td>\n      <td>[Sales Assistant, Saleswoman, Commercial Advisor]</td>\n      <td>12</td>\n      <td>[English, Spanish, Communications, Communicati...</td>\n      <td>Man</td>\n      <td>No</td>\n    </tr>\n    <tr>\n      <th>3</th>\n      <td>4</td>\n      <td>[Graduated In Administration And Management Cf...</td>\n      <td>[Project Manager, Project Leader]</td>\n      <td>12</td>\n      <td>[Organization, Management, Teamwork, Planning,...</td>\n      <td>Man</td>\n      <td>No</td>\n    </tr>\n    <tr>\n      <th>4</th>\n      <td>5</td>\n      <td>[Law Bachelor, Degree In Law, Higher Degree In...</td>\n      <td>[Consultant]</td>\n      <td>12</td>\n      <td>[Punctuality, Organization, Accounting, Englis...</td>\n      <td>Man</td>\n      <td>No</td>\n    </tr>\n  </tbody>\n</table>\n</div>"
     },
     "execution_count": 25,
     "metadata": {},
     "output_type": "execute_result"
    }
   ],
   "source": [
    "# Load JDS (Job Data Source) DataFrame from a CSV file. \n",
    "# Here, the CSV file is a sample of the interaction log synthetic data generated in the FINDHR project.\n",
    "# The converters argument is specific of an organization's information system, because it depends on the source format of raw data.\n",
    "# Only job_id is mandatory, all other columns are features of the job available in the organization's information system.\n",
    "\n",
    "df_JDS = pd.read_csv('../../../data/upf_gen/jobs.csv', index_col=0,\n",
    "                 converters={'experience_reqs_duration_j': literal_eval,\n",
    "                             'experience_reqs_role_j': literal_eval,\n",
    "                             'education_reqs_j': literal_eval,\n",
    "                             'skills_j': literal_eval\n",
    "                             })\n",
    "df_JDS.head()"
   ]
  },
  {
   "cell_type": "code",
   "execution_count": 41,
   "metadata": {
    "collapsed": false,
    "jupyter": {
     "outputs_hidden": false
    },
    "ExecuteTime": {
     "end_time": "2025-04-08T12:59:32.232405Z",
     "start_time": "2025-04-08T12:59:32.083088Z"
    }
   },
   "outputs": [
    {
     "data": {
      "text/plain": "      id_c  id_j     score  ranking  shortlisted\n0        6     3  0.000000       55            0\n1       11     3  0.492754       25            0\n3       15     3  0.453089       36            0\n4       17     3  0.049689       49            0\n5       19     3  0.080268       46            0\n...    ...   ...       ...      ...          ...\n1537  2204     1  0.550725       13            0\n1538  2211     1  0.550725       13            0\n1539  2213     1  0.478261       35            0\n1540  2214     1  0.478261       35            0\n1541  2215     1  0.455243       48            0\n\n[1643 rows x 5 columns]",
      "text/html": "<div>\n<style scoped>\n    .dataframe tbody tr th:only-of-type {\n        vertical-align: middle;\n    }\n\n    .dataframe tbody tr th {\n        vertical-align: top;\n    }\n\n    .dataframe thead th {\n        text-align: right;\n    }\n</style>\n<table border=\"1\" class=\"dataframe\">\n  <thead>\n    <tr style=\"text-align: right;\">\n      <th></th>\n      <th>id_c</th>\n      <th>id_j</th>\n      <th>score</th>\n      <th>ranking</th>\n      <th>shortlisted</th>\n    </tr>\n  </thead>\n  <tbody>\n    <tr>\n      <th>0</th>\n      <td>6</td>\n      <td>3</td>\n      <td>0.000000</td>\n      <td>55</td>\n      <td>0</td>\n    </tr>\n    <tr>\n      <th>1</th>\n      <td>11</td>\n      <td>3</td>\n      <td>0.492754</td>\n      <td>25</td>\n      <td>0</td>\n    </tr>\n    <tr>\n      <th>3</th>\n      <td>15</td>\n      <td>3</td>\n      <td>0.453089</td>\n      <td>36</td>\n      <td>0</td>\n    </tr>\n    <tr>\n      <th>4</th>\n      <td>17</td>\n      <td>3</td>\n      <td>0.049689</td>\n      <td>49</td>\n      <td>0</td>\n    </tr>\n    <tr>\n      <th>5</th>\n      <td>19</td>\n      <td>3</td>\n      <td>0.080268</td>\n      <td>46</td>\n      <td>0</td>\n    </tr>\n    <tr>\n      <th>...</th>\n      <td>...</td>\n      <td>...</td>\n      <td>...</td>\n      <td>...</td>\n      <td>...</td>\n    </tr>\n    <tr>\n      <th>1537</th>\n      <td>2204</td>\n      <td>1</td>\n      <td>0.550725</td>\n      <td>13</td>\n      <td>0</td>\n    </tr>\n    <tr>\n      <th>1538</th>\n      <td>2211</td>\n      <td>1</td>\n      <td>0.550725</td>\n      <td>13</td>\n      <td>0</td>\n    </tr>\n    <tr>\n      <th>1539</th>\n      <td>2213</td>\n      <td>1</td>\n      <td>0.478261</td>\n      <td>35</td>\n      <td>0</td>\n    </tr>\n    <tr>\n      <th>1540</th>\n      <td>2214</td>\n      <td>1</td>\n      <td>0.478261</td>\n      <td>35</td>\n      <td>0</td>\n    </tr>\n    <tr>\n      <th>1541</th>\n      <td>2215</td>\n      <td>1</td>\n      <td>0.455243</td>\n      <td>48</td>\n      <td>0</td>\n    </tr>\n  </tbody>\n</table>\n<p>1643 rows × 5 columns</p>\n</div>"
     },
     "execution_count": 41,
     "metadata": {},
     "output_type": "execute_result"
    }
   ],
   "source": [
    "# Create fictious ADS (Application Data Source) DataFrame (not present in the interaction log synthetic data).\n",
    "# first 10 candidates apply to first job position, second 10 candidates apply to second job position\n",
    "# Only job_id, candidate_id and *one* target feature are mandatory.\n",
    "TOP_K = 10\n",
    "df_ADS = pd.read_csv('../../../data/upf_gen/ADS.csv', index_col=0)\n",
    "# ranking is based on descending score\n",
    "df_ADS['ranking'] = df_ADS.groupby('id_j')['score'].rank('dense', ascending=False).astype(int)\n",
    "# shortlisted is top10 based on descending score\n",
    "df_ADS['shortlisted'] = (df_ADS['ranking'] <= TOP_K).astype(int)\n",
    "df_ADS"
   ]
  },
  {
   "cell_type": "code",
   "execution_count": 35,
   "metadata": {
    "collapsed": false,
    "jupyter": {
     "outputs_hidden": false
    },
    "ExecuteTime": {
     "end_time": "2025-04-07T21:10:00.323094Z",
     "start_time": "2025-04-07T21:10:00.304456Z"
    }
   },
   "outputs": [],
   "source": [
    "# Metadata for CDS is a dictionary mapping column names to JSONMetadata object\n",
    "md_CDS = {\n",
    "    'id_c': JSONMetadata(schema={'type': 'number'}),\n",
    "    'education_background_c' : JSONMetadata(schema={'type': 'array',\n",
    "                                                  'items': {'type': 'object',\n",
    "                                                            'properties': {'institution' : {'type': \"string\"},\n",
    "                                                                           'end_date': {'type': \"string\"},\n",
    "                                                                           'degree': {'type': \"string\"},\n",
    "                                                                           'duration': {'type': \"string\"}\n",
    "                                                                           }\n",
    "                                                            }\n",
    "                                                  },\n",
    "                                           attr_type='object',\n",
    "                                           attr_usage='default'\n",
    "                                                            ),\n",
    "    'professional_experience_c':  JSONMetadata(schema={'type': 'array',\n",
    "                                                                       'items': {'type': 'object',\n",
    "                                                                              'properties': {'institution' : {'type': \"string\"},\n",
    "                                                                                   'end_date': {'type': \"string\"},\n",
    "                                                                                   'role': {'type': \"string\"},\n",
    "                                                                                   'duration': {'type': \"string\"}\n",
    "                                                                                   }\n",
    "                                                                              }\n",
    "                                                                    },\n",
    "                                                             attr_type='object',\n",
    "                                                             attr_usage='default'\n",
    "                                                               ),\n",
    "    'skills_c': JSONMetadata(schema={'type': \"array\",\n",
    "                                     'items': {'type': 'string'}\n",
    "                                     },\n",
    "                             attr_type='object',\n",
    "                             attr_usage='default'\n",
    "                             ),\n",
    "    'gender_c': JSONMetadata(schema={'enum': ['Man', 'Woman', 'Any']},\n",
    "                             attr_type='category',\n",
    "                             attr_usage='sensitive'),\n",
    "    'agg_perceived_foreign_c': JSONMetadata(schema={'enum': ['No', 'Yes', 'Any']},\n",
    "                                            attr_type='category',\n",
    "                                            attr_usage='sensitive'),\n",
    "                                            }"
   ]
  },
  {
   "cell_type": "code",
   "execution_count": 36,
   "metadata": {
    "collapsed": false,
    "jupyter": {
     "outputs_hidden": false
    },
    "ExecuteTime": {
     "end_time": "2025-04-07T21:10:00.826706Z",
     "start_time": "2025-04-07T21:10:00.814458Z"
    }
   },
   "outputs": [],
   "source": [
    "# Metadata for JDS is a dictionary mapping column names to JSONMetadata object.\n",
    "md_JDS = {\n",
    "    'id_j': JSONMetadata(schema={'type': 'number'}),\n",
    "    'education_reqs_j': JSONMetadata(schema={'type': \"array\",\n",
    "                                     'items': {'type': 'string'}\n",
    "                                     },\n",
    "                                     attr_type='object',\n",
    "                                     attr_usage='default'\n",
    "                             ),\n",
    "    'experience_reqs_role_j': JSONMetadata(schema={'type': \"array\",\n",
    "                                                   'items': {'type': 'string'}\n",
    "                                                   },\n",
    "                                           attr_type='object',\n",
    "                                           attr_usage='default'\n",
    "                             ),\n",
    "    'experience_reqs_duration_j': JSONMetadata(schema={'type': 'number'},\n",
    "                                               attr_type='object',\n",
    "                                               attr_usage='default'),\n",
    "    'skills_j': JSONMetadata(schema={'type': \"array\",\n",
    "                                     'items': {'type': 'string'}\n",
    "                                     },\n",
    "                             attr_type='object',\n",
    "                             attr_usage='default'\n",
    "                             ),\n",
    "    'gender_j': JSONMetadata(schema={'enum': ['Man', 'Woman', 'Any']},\n",
    "                             attr_type='category',\n",
    "                             attr_usage='sensitive'),\n",
    "    'agg_perceived_foreign_j': JSONMetadata(schema={'enum': ['No', 'Yes', 'Any']},\n",
    "                                            attr_type='category',\n",
    "                                            attr_usage='sensitive'),\n",
    "}"
   ]
  },
  {
   "cell_type": "code",
   "execution_count": 37,
   "metadata": {
    "ExecuteTime": {
     "end_time": "2025-04-07T21:10:01.201048Z",
     "start_time": "2025-04-07T21:10:01.187701Z"
    }
   },
   "outputs": [],
   "source": [
    "# Metadata for ADS is a dictionary mapping column names to JSONMetadata object\n",
    "md_ADS = {\n",
    "    'score': JSONMetadata(schema={'type': 'number'}, attr_type='numeric', attr_usage='target'),\n",
    "    'ranking': JSONMetadata(schema={'type': 'integer'}, attr_type='ordinal', attr_usage='target'),\n",
    "    'shortlisted': JSONMetadata(schema={'type': 'integer'}, attr_type='category', attr_usage='target'),\n",
    "}"
   ]
  },
  {
   "cell_type": "code",
   "execution_count": 38,
   "metadata": {
    "collapsed": false,
    "jupyter": {
     "outputs_hidden": false
    },
    "scrolled": true,
    "ExecuteTime": {
     "end_time": "2025-04-07T21:10:01.930366Z",
     "start_time": "2025-04-07T21:10:01.911803Z"
    }
   },
   "outputs": [],
   "source": [
    "# Uncomment to Validate JSON schema.\n",
    "# print('{} Validating schema for df_CDS {}'.format('-' * 20, '-' * 20))\n",
    "# validate_schema(df_CDS, md_CDS)\n",
    "# print('{} Validating schema for df_JDS {}'.format('-' * 20, '-' * 20))\n",
    "# validate_schema(df_JDS, md_JDS)\n",
    "# print('{} Validating schema for df_ADS {}'.format('-' * 20, '-' * 20))\n",
    "# validate_schema(df_ADS, md_ADS)"
   ]
  },
  {
   "cell_type": "code",
   "execution_count": 39,
   "metadata": {
    "collapsed": false,
    "jupyter": {
     "outputs_hidden": false
    },
    "scrolled": true,
    "ExecuteTime": {
     "end_time": "2025-04-07T21:10:02.473498Z",
     "start_time": "2025-04-07T21:10:02.431680Z"
    }
   },
   "outputs": [
    {
     "data": {
      "text/plain": "{'id_c': \n \tSCHEMA = {'type': 'number'}\n \tATTR_TYPE = object\n \tATTR_USAGE = default\n \tKNOWLEDGE_BASE = None,\n 'education_background_c': \n \tSCHEMA = {'type': 'array', 'items': {'type': 'object', 'properties': {'institution': {'type': 'string'}, 'end_date': {'type': 'string'}, 'degree': {'type': 'string'}, 'duration': {'type': 'string'}}}}\n \tATTR_TYPE = object\n \tATTR_USAGE = default\n \tKNOWLEDGE_BASE = None,\n 'professional_experience_c': \n \tSCHEMA = {'type': 'array', 'items': {'type': 'object', 'properties': {'institution': {'type': 'string'}, 'end_date': {'type': 'string'}, 'role': {'type': 'string'}, 'duration': {'type': 'string'}}}}\n \tATTR_TYPE = object\n \tATTR_USAGE = default\n \tKNOWLEDGE_BASE = None,\n 'skills_c': \n \tSCHEMA = {'type': 'array', 'items': {'type': 'string'}}\n \tATTR_TYPE = object\n \tATTR_USAGE = default\n \tKNOWLEDGE_BASE = None,\n 'gender_c': \n \tSCHEMA = {'enum': ['Man', 'Woman', 'Any']}\n \tATTR_TYPE = category\n \tATTR_USAGE = sensitive\n \tKNOWLEDGE_BASE = None,\n 'agg_perceived_foreign_c': \n \tSCHEMA = {'enum': ['No', 'Yes', 'Any']}\n \tATTR_TYPE = category\n \tATTR_USAGE = sensitive\n \tKNOWLEDGE_BASE = None,\n 'id_j': \n \tSCHEMA = {'type': 'number'}\n \tATTR_TYPE = object\n \tATTR_USAGE = default\n \tKNOWLEDGE_BASE = None,\n 'education_reqs_j': \n \tSCHEMA = {'type': 'array', 'items': {'type': 'string'}}\n \tATTR_TYPE = object\n \tATTR_USAGE = default\n \tKNOWLEDGE_BASE = None,\n 'experience_reqs_role_j': \n \tSCHEMA = {'type': 'array', 'items': {'type': 'string'}}\n \tATTR_TYPE = object\n \tATTR_USAGE = default\n \tKNOWLEDGE_BASE = None,\n 'experience_reqs_duration_j': \n \tSCHEMA = {'type': 'number'}\n \tATTR_TYPE = object\n \tATTR_USAGE = default\n \tKNOWLEDGE_BASE = None,\n 'skills_j': \n \tSCHEMA = {'type': 'array', 'items': {'type': 'string'}}\n \tATTR_TYPE = object\n \tATTR_USAGE = default\n \tKNOWLEDGE_BASE = None,\n 'gender_j': \n \tSCHEMA = {'enum': ['Man', 'Woman', 'Any']}\n \tATTR_TYPE = category\n \tATTR_USAGE = sensitive\n \tKNOWLEDGE_BASE = None,\n 'agg_perceived_foreign_j': \n \tSCHEMA = {'enum': ['No', 'Yes', 'Any']}\n \tATTR_TYPE = category\n \tATTR_USAGE = sensitive\n \tKNOWLEDGE_BASE = None,\n 'score': \n \tSCHEMA = {'type': 'number'}\n \tATTR_TYPE = numeric\n \tATTR_USAGE = target\n \tKNOWLEDGE_BASE = None,\n 'ranking': \n \tSCHEMA = {'type': 'integer'}\n \tATTR_TYPE = ordinal\n \tATTR_USAGE = target\n \tKNOWLEDGE_BASE = None,\n 'shortlisted': \n \tSCHEMA = {'type': 'integer'}\n \tATTR_TYPE = category\n \tATTR_USAGE = target\n \tKNOWLEDGE_BASE = None}"
     },
     "execution_count": 39,
     "metadata": {},
     "output_type": "execute_result"
    }
   ],
   "source": [
    "# Join metadata (assume no clash of column names).\n",
    "md_all =  {**md_CDS, **md_JDS, **md_ADS}\n",
    "md_all"
   ]
  },
  {
   "cell_type": "code",
   "execution_count": 40,
   "metadata": {
    "collapsed": false,
    "jupyter": {
     "outputs_hidden": false
    },
    "ExecuteTime": {
     "end_time": "2025-04-07T21:10:02.899622Z",
     "start_time": "2025-04-07T21:10:02.874326Z"
    }
   },
   "outputs": [
    {
     "data": {
      "text/plain": "   id_c                             education_background_c  \\\n0     5  [{'institution': 'Complutense University Of Ma...   \n1     6  [{'institution': 'Coronel Rosales Agricultural...   \n2    10  [{'institution': 'Complutense University Of Ma...   \n3    11  [{'institution': 'Les Ribera De Los Molinos', ...   \n4    15  [{'institution': 'Escuela Politcnica Superior ...   \n\n                           professional_experience_c  \\\n0  [{'institution': 'Stylo Milano', 'start_date':...   \n1  [{'institution': 'Securitas Direct', 'start_da...   \n2  [{'institution': 'Carrefour Express', 'start_d...   \n3  [{'institution': 'Decimas Sl', 'start_date': '...   \n4  [{'institution': 'Reintegrate', 'start_date': ...   \n\n                                            skills_c gender_c  \\\n0  [Communications, Social Integration, Microsoft...      Man   \n1  [Refinancing, Economy, Microsoft Excel, Collec...      Man   \n2  [Entrepreneurship, Literacy, Web Design, Adobe...    Woman   \n3  [Consulting, Sap Crm, Collections, Automation,...    Woman   \n4  [Microsoft Word, Biofuels, English, Entreprene...      Man   \n\n  agg_perceived_foreign_c  id_j  \\\n0                      No     5   \n1                      No     3   \n2                      No     5   \n3                      No     3   \n4                      No     3   \n\n                                    education_reqs_j  \\\n0  [Law Bachelor, Degree In Law, Higher Degree In...   \n1                                                 []   \n2  [Law Bachelor, Degree In Law, Higher Degree In...   \n3                                                 []   \n4                                                 []   \n\n                              experience_reqs_role_j  \\\n0                                       [Consultant]   \n1  [Sales Assistant, Saleswoman, Commercial Advisor]   \n2                                       [Consultant]   \n3  [Sales Assistant, Saleswoman, Commercial Advisor]   \n4  [Sales Assistant, Saleswoman, Commercial Advisor]   \n\n   experience_reqs_duration_j  \\\n0                          12   \n1                          12   \n2                          12   \n3                          12   \n4                          12   \n\n                                            skills_j gender_j  \\\n0  [Punctuality, Organization, Accounting, Englis...      Man   \n1  [English, Spanish, Communications, Communicati...      Man   \n2  [Punctuality, Organization, Accounting, Englis...      Man   \n3  [English, Spanish, Communications, Communicati...      Man   \n4  [English, Spanish, Communications, Communicati...      Man   \n\n  agg_perceived_foreign_j     score  ranking  shortlisted  \n0                      No  0.000000      138            0  \n1                      No  0.000000       89            0  \n2                      No  0.492754       55            0  \n3                      No  0.492754       35            0  \n4                      No  0.453089       49            0  ",
      "text/html": "<div>\n<style scoped>\n    .dataframe tbody tr th:only-of-type {\n        vertical-align: middle;\n    }\n\n    .dataframe tbody tr th {\n        vertical-align: top;\n    }\n\n    .dataframe thead th {\n        text-align: right;\n    }\n</style>\n<table border=\"1\" class=\"dataframe\">\n  <thead>\n    <tr style=\"text-align: right;\">\n      <th></th>\n      <th>id_c</th>\n      <th>education_background_c</th>\n      <th>professional_experience_c</th>\n      <th>skills_c</th>\n      <th>gender_c</th>\n      <th>agg_perceived_foreign_c</th>\n      <th>id_j</th>\n      <th>education_reqs_j</th>\n      <th>experience_reqs_role_j</th>\n      <th>experience_reqs_duration_j</th>\n      <th>skills_j</th>\n      <th>gender_j</th>\n      <th>agg_perceived_foreign_j</th>\n      <th>score</th>\n      <th>ranking</th>\n      <th>shortlisted</th>\n    </tr>\n  </thead>\n  <tbody>\n    <tr>\n      <th>0</th>\n      <td>5</td>\n      <td>[{'institution': 'Complutense University Of Ma...</td>\n      <td>[{'institution': 'Stylo Milano', 'start_date':...</td>\n      <td>[Communications, Social Integration, Microsoft...</td>\n      <td>Man</td>\n      <td>No</td>\n      <td>5</td>\n      <td>[Law Bachelor, Degree In Law, Higher Degree In...</td>\n      <td>[Consultant]</td>\n      <td>12</td>\n      <td>[Punctuality, Organization, Accounting, Englis...</td>\n      <td>Man</td>\n      <td>No</td>\n      <td>0.000000</td>\n      <td>138</td>\n      <td>0</td>\n    </tr>\n    <tr>\n      <th>1</th>\n      <td>6</td>\n      <td>[{'institution': 'Coronel Rosales Agricultural...</td>\n      <td>[{'institution': 'Securitas Direct', 'start_da...</td>\n      <td>[Refinancing, Economy, Microsoft Excel, Collec...</td>\n      <td>Man</td>\n      <td>No</td>\n      <td>3</td>\n      <td>[]</td>\n      <td>[Sales Assistant, Saleswoman, Commercial Advisor]</td>\n      <td>12</td>\n      <td>[English, Spanish, Communications, Communicati...</td>\n      <td>Man</td>\n      <td>No</td>\n      <td>0.000000</td>\n      <td>89</td>\n      <td>0</td>\n    </tr>\n    <tr>\n      <th>2</th>\n      <td>10</td>\n      <td>[{'institution': 'Complutense University Of Ma...</td>\n      <td>[{'institution': 'Carrefour Express', 'start_d...</td>\n      <td>[Entrepreneurship, Literacy, Web Design, Adobe...</td>\n      <td>Woman</td>\n      <td>No</td>\n      <td>5</td>\n      <td>[Law Bachelor, Degree In Law, Higher Degree In...</td>\n      <td>[Consultant]</td>\n      <td>12</td>\n      <td>[Punctuality, Organization, Accounting, Englis...</td>\n      <td>Man</td>\n      <td>No</td>\n      <td>0.492754</td>\n      <td>55</td>\n      <td>0</td>\n    </tr>\n    <tr>\n      <th>3</th>\n      <td>11</td>\n      <td>[{'institution': 'Les Ribera De Los Molinos', ...</td>\n      <td>[{'institution': 'Decimas Sl', 'start_date': '...</td>\n      <td>[Consulting, Sap Crm, Collections, Automation,...</td>\n      <td>Woman</td>\n      <td>No</td>\n      <td>3</td>\n      <td>[]</td>\n      <td>[Sales Assistant, Saleswoman, Commercial Advisor]</td>\n      <td>12</td>\n      <td>[English, Spanish, Communications, Communicati...</td>\n      <td>Man</td>\n      <td>No</td>\n      <td>0.492754</td>\n      <td>35</td>\n      <td>0</td>\n    </tr>\n    <tr>\n      <th>4</th>\n      <td>15</td>\n      <td>[{'institution': 'Escuela Politcnica Superior ...</td>\n      <td>[{'institution': 'Reintegrate', 'start_date': ...</td>\n      <td>[Microsoft Word, Biofuels, English, Entreprene...</td>\n      <td>Man</td>\n      <td>No</td>\n      <td>3</td>\n      <td>[]</td>\n      <td>[Sales Assistant, Saleswoman, Commercial Advisor]</td>\n      <td>12</td>\n      <td>[English, Spanish, Communications, Communicati...</td>\n      <td>Man</td>\n      <td>No</td>\n      <td>0.453089</td>\n      <td>49</td>\n      <td>0</td>\n    </tr>\n  </tbody>\n</table>\n</div>"
     },
     "execution_count": 40,
     "metadata": {},
     "output_type": "execute_result"
    }
   ],
   "source": [
    "# Join raw data.\n",
    "df_all = pd.merge(df_JDS, df_ADS, on='id_j')\n",
    "df_all = pd.merge(df_CDS, df_all, on='id_c')\n",
    "df_all.head()"
   ]
  },
  {
   "cell_type": "code",
   "execution_count": null,
   "metadata": {},
   "outputs": [],
   "source": []
  }
 ],
 "metadata": {
  "kernelspec": {
   "display_name": "Python 3 (ipykernel)",
   "language": "python",
   "name": "python3"
  },
  "language_info": {
   "codemirror_mode": {
    "name": "ipython",
    "version": 3
   },
   "file_extension": ".py",
   "mimetype": "text/x-python",
   "name": "python",
   "nbconvert_exporter": "python",
   "pygments_lexer": "ipython3",
   "version": "3.11.9"
  }
 },
 "nbformat": 4,
 "nbformat_minor": 4
}
